{
 "cells": [
  {
   "cell_type": "code",
   "execution_count": 1,
   "id": "03535b75-91a3-4002-8c39-83c719a59240",
   "metadata": {},
   "outputs": [],
   "source": [
    "# Import dependencies\n",
    "import pandas as pd\n",
    "import numpy as np\n",
    "import collections\n",
    "\n",
    "from sklearn.model_selection import train_test_split\n",
    "from sklearn.preprocessing import StandardScaler, MinMaxScaler, LabelEncoder, OneHotEncoder\n",
    "from sklearn.ensemble import RandomForestClassifier\n",
    "from sklearn.decomposition import PCA\n",
    "from sklearn import tree"
   ]
  },
  {
   "cell_type": "code",
   "execution_count": 2,
   "id": "3617deff-846d-44c7-a6f4-6b62e36fb915",
   "metadata": {},
   "outputs": [],
   "source": [
    "# Study data files\n",
    "data_path = \"usda_plantsdb.csv\"\n",
    "\n",
    "# Read the mouse data and the study results\n",
    "data = pd.read_csv(data_path,low_memory=False)"
   ]
  },
  {
   "cell_type": "code",
   "execution_count": 3,
   "id": "f8a4f172-f09f-4b0b-9e16-0aa7bcd7f6e5",
   "metadata": {},
   "outputs": [
    {
     "data": {
      "text/html": [
       "<div>\n",
       "<style scoped>\n",
       "    .dataframe tbody tr th:only-of-type {\n",
       "        vertical-align: middle;\n",
       "    }\n",
       "\n",
       "    .dataframe tbody tr th {\n",
       "        vertical-align: top;\n",
       "    }\n",
       "\n",
       "    .dataframe thead th {\n",
       "        text-align: right;\n",
       "    }\n",
       "</style>\n",
       "<table border=\"1\" class=\"dataframe\">\n",
       "  <thead>\n",
       "    <tr style=\"text-align: right;\">\n",
       "      <th></th>\n",
       "      <th>Unnamed: 0</th>\n",
       "      <th>id</th>\n",
       "      <th>Symbol</th>\n",
       "      <th>Accepted_Symbol_x</th>\n",
       "      <th>Synonym_Symbol_x</th>\n",
       "      <th>Scientific_Name_x</th>\n",
       "      <th>Hybrid_Genus_Indicator</th>\n",
       "      <th>Hybrid_Species_Indicator</th>\n",
       "      <th>Species</th>\n",
       "      <th>Subspecies_Prefix</th>\n",
       "      <th>...</th>\n",
       "      <th>Naval_Store_Product</th>\n",
       "      <th>Nursery_Stock_Product</th>\n",
       "      <th>Palatable_Browse_Animal</th>\n",
       "      <th>Palatable_Graze_Animal</th>\n",
       "      <th>Palatable_Human</th>\n",
       "      <th>Post_Product</th>\n",
       "      <th>Protein_Potential</th>\n",
       "      <th>Pulpwood_Product</th>\n",
       "      <th>Veneer_Product</th>\n",
       "      <th>Genus</th>\n",
       "    </tr>\n",
       "  </thead>\n",
       "  <tbody>\n",
       "    <tr>\n",
       "      <th>0</th>\n",
       "      <td>0</td>\n",
       "      <td>1</td>\n",
       "      <td>ABAB</td>\n",
       "      <td>ABAB</td>\n",
       "      <td>NaN</td>\n",
       "      <td>Abutilon abutiloides (Jacq.) Garcke ex Hochr.</td>\n",
       "      <td>NaN</td>\n",
       "      <td>NaN</td>\n",
       "      <td>abutiloides</td>\n",
       "      <td>NaN</td>\n",
       "      <td>...</td>\n",
       "      <td>NaN</td>\n",
       "      <td>NaN</td>\n",
       "      <td>NaN</td>\n",
       "      <td>NaN</td>\n",
       "      <td>NaN</td>\n",
       "      <td>NaN</td>\n",
       "      <td>NaN</td>\n",
       "      <td>NaN</td>\n",
       "      <td>NaN</td>\n",
       "      <td>Abutilon</td>\n",
       "    </tr>\n",
       "    <tr>\n",
       "      <th>1</th>\n",
       "      <td>1</td>\n",
       "      <td>2</td>\n",
       "      <td>ABAB2</td>\n",
       "      <td>ABPR3</td>\n",
       "      <td>ABAB2</td>\n",
       "      <td>Abrus abrus (L.) W. Wight, nom. inval.</td>\n",
       "      <td>NaN</td>\n",
       "      <td>NaN</td>\n",
       "      <td>abrus</td>\n",
       "      <td>NaN</td>\n",
       "      <td>...</td>\n",
       "      <td>NaN</td>\n",
       "      <td>NaN</td>\n",
       "      <td>NaN</td>\n",
       "      <td>NaN</td>\n",
       "      <td>NaN</td>\n",
       "      <td>NaN</td>\n",
       "      <td>NaN</td>\n",
       "      <td>NaN</td>\n",
       "      <td>NaN</td>\n",
       "      <td>Abrus</td>\n",
       "    </tr>\n",
       "    <tr>\n",
       "      <th>2</th>\n",
       "      <td>2</td>\n",
       "      <td>3</td>\n",
       "      <td>ABAB3</td>\n",
       "      <td>ABTH</td>\n",
       "      <td>ABAB3</td>\n",
       "      <td>Abutilon abutilon (L.) Rusby, nom. inval.</td>\n",
       "      <td>NaN</td>\n",
       "      <td>NaN</td>\n",
       "      <td>abutilon</td>\n",
       "      <td>NaN</td>\n",
       "      <td>...</td>\n",
       "      <td>NaN</td>\n",
       "      <td>NaN</td>\n",
       "      <td>NaN</td>\n",
       "      <td>NaN</td>\n",
       "      <td>NaN</td>\n",
       "      <td>NaN</td>\n",
       "      <td>NaN</td>\n",
       "      <td>NaN</td>\n",
       "      <td>NaN</td>\n",
       "      <td>Abutilon</td>\n",
       "    </tr>\n",
       "    <tr>\n",
       "      <th>3</th>\n",
       "      <td>3</td>\n",
       "      <td>4</td>\n",
       "      <td>ABAB70</td>\n",
       "      <td>ABAB70</td>\n",
       "      <td>NaN</td>\n",
       "      <td>Abietinella abietina (Hedw.) Fleisch.</td>\n",
       "      <td>NaN</td>\n",
       "      <td>NaN</td>\n",
       "      <td>abietina</td>\n",
       "      <td>NaN</td>\n",
       "      <td>...</td>\n",
       "      <td>NaN</td>\n",
       "      <td>NaN</td>\n",
       "      <td>NaN</td>\n",
       "      <td>NaN</td>\n",
       "      <td>NaN</td>\n",
       "      <td>NaN</td>\n",
       "      <td>NaN</td>\n",
       "      <td>NaN</td>\n",
       "      <td>NaN</td>\n",
       "      <td>Abietinella</td>\n",
       "    </tr>\n",
       "    <tr>\n",
       "      <th>4</th>\n",
       "      <td>4</td>\n",
       "      <td>5</td>\n",
       "      <td>ABAC</td>\n",
       "      <td>ABUMB</td>\n",
       "      <td>ABAC</td>\n",
       "      <td>Abronia acutalata Standl.</td>\n",
       "      <td>NaN</td>\n",
       "      <td>NaN</td>\n",
       "      <td>acutalata</td>\n",
       "      <td>NaN</td>\n",
       "      <td>...</td>\n",
       "      <td>NaN</td>\n",
       "      <td>NaN</td>\n",
       "      <td>NaN</td>\n",
       "      <td>NaN</td>\n",
       "      <td>NaN</td>\n",
       "      <td>NaN</td>\n",
       "      <td>NaN</td>\n",
       "      <td>NaN</td>\n",
       "      <td>NaN</td>\n",
       "      <td>Abronia</td>\n",
       "    </tr>\n",
       "  </tbody>\n",
       "</table>\n",
       "<p>5 rows × 135 columns</p>\n",
       "</div>"
      ],
      "text/plain": [
       "   Unnamed: 0  id  Symbol Accepted_Symbol_x Synonym_Symbol_x  \\\n",
       "0           0   1    ABAB              ABAB              NaN   \n",
       "1           1   2   ABAB2             ABPR3            ABAB2   \n",
       "2           2   3   ABAB3              ABTH            ABAB3   \n",
       "3           3   4  ABAB70            ABAB70              NaN   \n",
       "4           4   5    ABAC             ABUMB             ABAC   \n",
       "\n",
       "                               Scientific_Name_x Hybrid_Genus_Indicator  \\\n",
       "0  Abutilon abutiloides (Jacq.) Garcke ex Hochr.                    NaN   \n",
       "1         Abrus abrus (L.) W. Wight, nom. inval.                    NaN   \n",
       "2      Abutilon abutilon (L.) Rusby, nom. inval.                    NaN   \n",
       "3          Abietinella abietina (Hedw.) Fleisch.                    NaN   \n",
       "4                      Abronia acutalata Standl.                    NaN   \n",
       "\n",
       "  Hybrid_Species_Indicator      Species Subspecies_Prefix  ...  \\\n",
       "0                      NaN  abutiloides               NaN  ...   \n",
       "1                      NaN        abrus               NaN  ...   \n",
       "2                      NaN     abutilon               NaN  ...   \n",
       "3                      NaN     abietina               NaN  ...   \n",
       "4                      NaN    acutalata               NaN  ...   \n",
       "\n",
       "  Naval_Store_Product Nursery_Stock_Product Palatable_Browse_Animal  \\\n",
       "0                 NaN                   NaN                     NaN   \n",
       "1                 NaN                   NaN                     NaN   \n",
       "2                 NaN                   NaN                     NaN   \n",
       "3                 NaN                   NaN                     NaN   \n",
       "4                 NaN                   NaN                     NaN   \n",
       "\n",
       "  Palatable_Graze_Animal Palatable_Human Post_Product Protein_Potential  \\\n",
       "0                    NaN             NaN          NaN               NaN   \n",
       "1                    NaN             NaN          NaN               NaN   \n",
       "2                    NaN             NaN          NaN               NaN   \n",
       "3                    NaN             NaN          NaN               NaN   \n",
       "4                    NaN             NaN          NaN               NaN   \n",
       "\n",
       "  Pulpwood_Product Veneer_Product        Genus  \n",
       "0              NaN            NaN     Abutilon  \n",
       "1              NaN            NaN        Abrus  \n",
       "2              NaN            NaN     Abutilon  \n",
       "3              NaN            NaN  Abietinella  \n",
       "4              NaN            NaN      Abronia  \n",
       "\n",
       "[5 rows x 135 columns]"
      ]
     },
     "execution_count": 3,
     "metadata": {},
     "output_type": "execute_result"
    }
   ],
   "source": [
    "# Combine the data into a single dataset\n",
    "df_og = pd.DataFrame(data)\n",
    "df = df_og.copy()\n",
    "\n",
    "# Display the data table for preview\n",
    "df.head()"
   ]
  },
  {
   "cell_type": "code",
   "execution_count": 4,
   "id": "742c6357-d468-40fc-80c5-7f05708b7c75",
   "metadata": {},
   "outputs": [
    {
     "data": {
      "text/plain": [
       "(92171, 135)"
      ]
     },
     "execution_count": 4,
     "metadata": {},
     "output_type": "execute_result"
    }
   ],
   "source": [
    "df.shape"
   ]
  },
  {
   "cell_type": "code",
   "execution_count": 5,
   "id": "582f0327-915d-4aef-b9df-c01c186689fc",
   "metadata": {},
   "outputs": [
    {
     "name": "stdout",
     "output_type": "stream",
     "text": [
      "['Unnamed: 0', 'id', 'Symbol', 'Accepted_Symbol_x', 'Synonym_Symbol_x', 'Scientific_Name_x', 'Hybrid_Genus_Indicator', 'Hybrid_Species_Indicator', 'Species', 'Subspecies_Prefix', 'Hybrid_Subspecies_Indicator', 'Subspecies', 'Variety_Prefix', 'Hybrid_Variety_Indicator', 'Variety', 'Subvariety_Prefix', 'Subvariety', 'Forma_Prefix', 'Forma', 'Genera_Binomial_Author', 'Trinomial_Author', 'Quadranomial_Author', 'Questionable_Taxon_Indicator', 'Parents', 'Common_Name', 'State_and_Province', 'Category', 'Family', 'Family_Symbol', 'Family_Common_Name', 'xOrder', 'SubClass', 'Class', 'SubDivision', 'Division', 'SuperDivision', 'SubKingdom', 'Kingdom', 'Duration', 'Growth_Habit', 'Native_Status', 'Federal_Noxious_Status', 'State_Noxious_Status', 'State_Noxious_Common_Name', 'Invasive', 'Federal_T_E_Status', 'State_T_E_Status', 'State_T_E_Common_Name', 'Accepted_Symbol_y', 'Synonym_Symbol_y', 'Scientific_Name_y', 'Active_Growth_Period', 'After_Harvest_Regrowth_Rate', 'Bloat', 'C_N_Ratio', 'Coppice_Potential', 'Fall_Conspicuous', 'Fire_Resistance', 'Flower_Color', 'Flower_Conspicuous', 'Foliage_Color', 'Foliage_Porosity_Summer', 'Foliage_Porosity_Winter', 'Foliage_Texture', 'Fruit_Color', 'Fruit_Conspicuous', 'Growth_Form', 'Growth_Rate', 'Height_at_Base_Age_Maximum_feet', 'Height_Mature_feet', 'Known_Allelopath', 'Leaf_Retention', 'Lifespan', 'Low_Growing_Grass', 'Nitrogen_Fixation', 'Resprout_Ability', 'Shape_and_Orientation', 'Toxicity', 'Adapted_to_Coarse_Textured_Soils', 'Adapted_to_Medium_Textured_Soils', 'Adapted_to_Fine_Textured_Soils', 'Anaerobic_Tolerance', 'CaCO_3_Tolerance', 'Cold_Stratification_Required', 'Drought_Tolerance', 'Fertility_Requirement', 'Fire_Tolerance', 'Frost_Free_Days_Minimum', 'Hedge_Tolerance', 'Moisture_Use', 'pH_Minimum', 'pH_Maximum', 'Planting_Density_per_Acre_Minimum', 'Planting_Density_per_Acre_Maximum', 'Precipitation_Minimum', 'Precipitation_Maximum', 'Root_Depth_Minimum_inches', 'Salinity_Tolerance', 'Shade_Tolerance', 'Temperature_Minimum_F', 'Bloom_Period', 'Commercial_Availability', 'Fruit_Seed_Abundance', 'Fruit_Seed_Period_Begin', 'Fruit_Seed_Period_End', 'Fruit_Seed_Persistence', 'Propogated_by_Bare_Root', 'Propogated_by_Bulbs', 'Propogated_by_Container', 'Propogated_by_Corms', 'Propogated_by_Cuttings', 'Propogated_by_Seed', 'Propogated_by_Sod', 'Propogated_by_Sprigs', 'Propogated_by_Tubers', 'Seeds_per_Pound', 'Seed_Spread_Rate', 'Seedling_Vigor', 'Small_Grain', 'Vegetative_Spread_Rate', 'Berry_Nut_Seed_Product', 'Christmas_Tree_Product', 'Fodder_Product', 'Fuelwood_Product', 'Lumber_Product', 'Naval_Store_Product', 'Nursery_Stock_Product', 'Palatable_Browse_Animal', 'Palatable_Graze_Animal', 'Palatable_Human', 'Post_Product', 'Protein_Potential', 'Pulpwood_Product', 'Veneer_Product', 'Genus']\n"
     ]
    }
   ],
   "source": [
    "column_list = list(df)\n",
    "print(column_list)\n",
    "# Does T_E_ mean tax-exempt?\n",
    "# are _y columns duplicated?"
   ]
  },
  {
   "cell_type": "code",
   "execution_count": 6,
   "id": "90c24d39-2a0c-4e11-922f-596593128c3c",
   "metadata": {},
   "outputs": [
    {
     "name": "stdout",
     "output_type": "stream",
     "text": [
      "Questionable_Taxon_Indicator    92171\n",
      "Hybrid_Subspecies_Indicator     92166\n",
      "Hybrid_Variety_Indicator        92165\n",
      "Subvariety_Prefix               92163\n",
      "Subvariety                      92163\n",
      "                                ...  \n",
      "id                                  0\n",
      "Scientific_Name_x                   0\n",
      "Accepted_Symbol_x                   0\n",
      "Symbol                              0\n",
      "Genus                               0\n",
      "Length: 135, dtype: int64\n"
     ]
    }
   ],
   "source": [
    "# find empty columns\n",
    "df_null_list = df.isnull().sum().sort_values(ascending=False)\n",
    "print(df_null_list)"
   ]
  },
  {
   "cell_type": "code",
   "execution_count": 7,
   "id": "16b37549-c30d-434f-b5d6-1ab74db015dd",
   "metadata": {},
   "outputs": [
    {
     "name": "stdout",
     "output_type": "stream",
     "text": [
      "92171\n",
      "----------------\n",
      "92171\n",
      "----------------\n",
      "92171\n",
      "----------------\n",
      "48398\n",
      "----------------\n",
      "43773\n",
      "----------------\n",
      "92163\n",
      "----------------\n",
      "1\n",
      "----------------\n",
      "1\n",
      "----------------\n",
      "20631\n",
      "----------------\n",
      "1\n",
      "----------------\n",
      "1\n",
      "----------------\n",
      "3428\n",
      "----------------\n",
      "1\n",
      "----------------\n",
      "1\n",
      "----------------\n",
      "7649\n",
      "----------------\n",
      "1\n",
      "----------------\n",
      "8\n",
      "----------------\n",
      "1\n",
      "----------------\n",
      "56\n",
      "----------------\n",
      "20255\n",
      "----------------\n",
      "11690\n",
      "----------------\n",
      "225\n",
      "----------------\n",
      "0\n",
      "----------------\n",
      "1068\n",
      "----------------\n",
      "31247\n",
      "----------------\n",
      "10921\n",
      "----------------\n",
      "14\n",
      "----------------\n",
      "547\n",
      "----------------\n",
      "547\n",
      "----------------\n",
      "311\n",
      "----------------\n",
      "156\n",
      "----------------\n",
      "18\n",
      "----------------\n",
      "24\n",
      "----------------\n",
      "3\n",
      "----------------\n",
      "16\n",
      "----------------\n",
      "1\n",
      "----------------\n",
      "1\n",
      "----------------\n",
      "2\n",
      "----------------\n",
      "9\n",
      "----------------\n",
      "63\n",
      "----------------\n",
      "347\n",
      "----------------\n",
      "2\n",
      "----------------\n",
      "282\n",
      "----------------\n",
      "573\n",
      "----------------\n",
      "166\n",
      "----------------\n",
      "2\n",
      "----------------\n",
      "1645\n",
      "----------------\n",
      "4872\n",
      "----------------\n",
      "1081\n",
      "----------------\n",
      "30\n",
      "----------------\n",
      "1111\n",
      "----------------\n",
      "8\n",
      "----------------\n",
      "3\n",
      "----------------\n",
      "4\n",
      "----------------\n",
      "3\n",
      "----------------\n",
      "2\n",
      "----------------\n",
      "2\n",
      "----------------\n",
      "2\n",
      "----------------\n",
      "8\n",
      "----------------\n",
      "2\n",
      "----------------\n",
      "6\n",
      "----------------\n",
      "3\n",
      "----------------\n",
      "3\n",
      "----------------\n",
      "3\n",
      "----------------\n",
      "9\n",
      "----------------\n",
      "2\n",
      "----------------\n",
      "8\n",
      "----------------\n",
      "3\n",
      "----------------\n",
      "34\n",
      "----------------\n",
      "101\n",
      "----------------\n",
      "2\n",
      "----------------\n",
      "2\n",
      "----------------\n",
      "3\n",
      "----------------\n",
      "2\n",
      "----------------\n",
      "4\n",
      "----------------\n",
      "2\n",
      "----------------\n",
      "11\n",
      "----------------\n",
      "4\n",
      "----------------\n",
      "2\n",
      "----------------\n",
      "2\n",
      "----------------\n",
      "2\n",
      "----------------\n",
      "4\n",
      "----------------\n",
      "4\n",
      "----------------\n",
      "2\n",
      "----------------\n",
      "4\n",
      "----------------\n",
      "3\n",
      "----------------\n",
      "4\n",
      "----------------\n",
      "62\n",
      "----------------\n",
      "4\n",
      "----------------\n",
      "3\n",
      "----------------\n",
      "35\n",
      "----------------\n",
      "42\n",
      "----------------\n",
      "62\n",
      "----------------\n",
      "59\n",
      "----------------\n",
      "42\n",
      "----------------\n",
      "66\n",
      "----------------\n",
      "30\n",
      "----------------\n",
      "4\n",
      "----------------\n",
      "3\n",
      "----------------\n",
      "69\n",
      "----------------\n",
      "12\n",
      "----------------\n",
      "4\n",
      "----------------\n",
      "4\n",
      "----------------\n",
      "5\n",
      "----------------\n",
      "5\n",
      "----------------\n",
      "2\n",
      "----------------\n",
      "2\n",
      "----------------\n",
      "2\n",
      "----------------\n",
      "2\n",
      "----------------\n",
      "2\n",
      "----------------\n",
      "2\n",
      "----------------\n",
      "2\n",
      "----------------\n",
      "2\n",
      "----------------\n",
      "2\n",
      "----------------\n",
      "2\n",
      "----------------\n",
      "564\n",
      "----------------\n",
      "4\n",
      "----------------\n",
      "3\n",
      "----------------\n",
      "2\n",
      "----------------\n",
      "4\n",
      "----------------\n",
      "2\n",
      "----------------\n",
      "2\n",
      "----------------\n",
      "2\n",
      "----------------\n",
      "3\n",
      "----------------\n",
      "2\n",
      "----------------\n",
      "2\n",
      "----------------\n",
      "2\n",
      "----------------\n",
      "3\n",
      "----------------\n",
      "3\n",
      "----------------\n",
      "2\n",
      "----------------\n",
      "2\n",
      "----------------\n",
      "2\n",
      "----------------\n",
      "2\n",
      "----------------\n",
      "2\n",
      "----------------\n",
      "6877\n",
      "----------------\n"
     ]
    }
   ],
   "source": [
    "for column in column_list:\n",
    "    print(df[column].nunique())\n",
    "    print('----------------')"
   ]
  },
  {
   "cell_type": "code",
   "execution_count": 8,
   "id": "2a3b3dd8-0f7c-4e7f-ad6c-ebe888a66bf0",
   "metadata": {},
   "outputs": [],
   "source": [
    "# bin 3 lists of column names by number of unique values\n",
    "one_unique_list = []\n",
    "two_unique_list = []\n",
    "three_unique_list = []\n",
    "four_unique_list = []\n",
    "med_unique_list = []\n",
    "\n",
    "for x in column_list:\n",
    "    if df[x].nunique() == 1:\n",
    "        one_unique_list.append(x)\n",
    "    elif df[x].nunique() == 2:\n",
    "        two_unique_list.append(x)\n",
    "    elif df[x].nunique() == 3:\n",
    "        three_unique_list.append(x)\n",
    "    elif df[x].nunique() == 4:\n",
    "        four_unique_list.append(x)\n",
    "    else: \n",
    "        med_unique_list.append(x)\n"
   ]
  },
  {
   "cell_type": "code",
   "execution_count": 9,
   "id": "0c492725-6d3b-4a73-9caf-b5e2489f9ea8",
   "metadata": {},
   "outputs": [
    {
     "name": "stdout",
     "output_type": "stream",
     "text": [
      "no matches found\n"
     ]
    }
   ],
   "source": [
    "# check for matches\n",
    "if collections.Counter(one_unique_list) == collections.Counter(two_unique_list):\n",
    "    print(\"matches found\")\n",
    "else: print (\"no matches found\")"
   ]
  },
  {
   "cell_type": "code",
   "execution_count": 10,
   "id": "0b56675c-6981-42ae-91a7-e310463c0d93",
   "metadata": {},
   "outputs": [
    {
     "name": "stdout",
     "output_type": "stream",
     "text": [
      "no matches found\n"
     ]
    }
   ],
   "source": [
    "# check for matches\n",
    "if collections.Counter(two_unique_list) == collections.Counter(three_unique_list):\n",
    "    print(\"matches found\")\n",
    "else: print (\"no matches found\")"
   ]
  },
  {
   "cell_type": "code",
   "execution_count": 11,
   "id": "7d296d4d-1436-4041-bfee-b64c4b3f564a",
   "metadata": {},
   "outputs": [
    {
     "name": "stdout",
     "output_type": "stream",
     "text": [
      "no matches found\n"
     ]
    }
   ],
   "source": [
    "# check for matches\n",
    "if collections.Counter(three_unique_list) == collections.Counter(four_unique_list):\n",
    "    print(\"matches found\")\n",
    "else: print (\"no matches found\")"
   ]
  },
  {
   "cell_type": "code",
   "execution_count": 12,
   "id": "13a36ef6-dc30-43d8-a44c-ffc129ab6bb2",
   "metadata": {},
   "outputs": [
    {
     "name": "stdout",
     "output_type": "stream",
     "text": [
      "no matches found\n"
     ]
    }
   ],
   "source": [
    "# check for matches\n",
    "if collections.Counter(four_unique_list) == collections.Counter(med_unique_list):\n",
    "    print(\"matches found\")\n",
    "else: print (\"no matches found\")"
   ]
  },
  {
   "cell_type": "code",
   "execution_count": 13,
   "id": "a36036ae-551f-488e-b100-755047de89d2",
   "metadata": {},
   "outputs": [
    {
     "name": "stdout",
     "output_type": "stream",
     "text": [
      "1\n",
      "1\n",
      "1\n",
      "1\n",
      "1\n",
      "1\n",
      "1\n",
      "1\n",
      "1\n",
      "1\n"
     ]
    }
   ],
   "source": [
    "# double check for correct nunique\n",
    "for x in one_unique_list:\n",
    "    print(df[x].nunique())\n",
    "\n",
    "# CORRECT"
   ]
  },
  {
   "cell_type": "code",
   "execution_count": 14,
   "id": "c5f1f4a3-b7f9-4cb1-837e-5e5ff18bf371",
   "metadata": {},
   "outputs": [
    {
     "name": "stdout",
     "output_type": "stream",
     "text": [
      "2\n",
      "2\n",
      "2\n",
      "2\n",
      "2\n",
      "2\n",
      "2\n",
      "2\n",
      "2\n",
      "2\n",
      "2\n",
      "2\n",
      "2\n",
      "2\n",
      "2\n",
      "2\n",
      "2\n",
      "2\n",
      "2\n",
      "2\n",
      "2\n",
      "2\n",
      "2\n",
      "2\n",
      "2\n",
      "2\n",
      "2\n",
      "2\n",
      "2\n",
      "2\n",
      "2\n",
      "2\n",
      "2\n",
      "2\n",
      "2\n",
      "2\n",
      "2\n",
      "2\n"
     ]
    }
   ],
   "source": [
    "# double check for correct nunique\n",
    "for x in two_unique_list:\n",
    "    print(df[x].nunique())\n",
    "\n",
    "# CORRECT"
   ]
  },
  {
   "cell_type": "code",
   "execution_count": 15,
   "id": "e7a06b58-54ec-448b-8fa0-788fd39803b9",
   "metadata": {},
   "outputs": [
    {
     "name": "stdout",
     "output_type": "stream",
     "text": [
      "3\n",
      "3\n",
      "3\n",
      "3\n",
      "3\n",
      "3\n",
      "3\n",
      "3\n",
      "3\n",
      "3\n",
      "3\n",
      "3\n",
      "3\n",
      "3\n",
      "3\n"
     ]
    }
   ],
   "source": [
    "# double check for correct nunique\n",
    "for x in three_unique_list:\n",
    "    print(df[x].nunique())\n",
    "    \n",
    "# CORRECT"
   ]
  },
  {
   "cell_type": "code",
   "execution_count": 16,
   "id": "146b14c3-51cf-4be8-93d0-7ffe66feb087",
   "metadata": {},
   "outputs": [
    {
     "name": "stdout",
     "output_type": "stream",
     "text": [
      "4\n",
      "4\n",
      "4\n",
      "4\n",
      "4\n",
      "4\n",
      "4\n",
      "4\n",
      "4\n",
      "4\n",
      "4\n",
      "4\n",
      "4\n"
     ]
    }
   ],
   "source": [
    "# double check for correct nunique\n",
    "for x in four_unique_list:\n",
    "    print(df[x].nunique())\n",
    "\n",
    "\n",
    "# CORRECT"
   ]
  },
  {
   "cell_type": "code",
   "execution_count": 17,
   "id": "a4ce6f27-a2d4-44c0-a978-04b4b4bb9206",
   "metadata": {},
   "outputs": [
    {
     "name": "stdout",
     "output_type": "stream",
     "text": [
      "92171\n",
      "92171\n",
      "92171\n",
      "48398\n",
      "43773\n",
      "92163\n",
      "20631\n",
      "3428\n",
      "7649\n",
      "8\n",
      "56\n",
      "20255\n",
      "11690\n",
      "225\n",
      "0\n",
      "1068\n",
      "31247\n",
      "10921\n",
      "14\n",
      "547\n",
      "547\n",
      "311\n",
      "156\n",
      "18\n",
      "24\n",
      "16\n",
      "9\n",
      "63\n",
      "347\n",
      "282\n",
      "573\n",
      "166\n",
      "1645\n",
      "4872\n",
      "1081\n",
      "30\n",
      "1111\n",
      "8\n",
      "8\n",
      "6\n",
      "9\n",
      "8\n",
      "34\n",
      "101\n",
      "11\n",
      "62\n",
      "35\n",
      "42\n",
      "62\n",
      "59\n",
      "42\n",
      "66\n",
      "30\n",
      "69\n",
      "12\n",
      "5\n",
      "5\n",
      "564\n",
      "6877\n"
     ]
    }
   ],
   "source": [
    "# double check for correct nunique\n",
    "for x in med_unique_list:\n",
    "    print(df[x].nunique())\n",
    "\n",
    "\n",
    "# CORRECT"
   ]
  },
  {
   "cell_type": "code",
   "execution_count": 18,
   "id": "155fda04-7f9c-4d0c-b46d-2c4eacab1777",
   "metadata": {},
   "outputs": [
    {
     "data": {
      "text/plain": [
       "10"
      ]
     },
     "execution_count": 18,
     "metadata": {},
     "output_type": "execute_result"
    }
   ],
   "source": [
    "len(one_unique_list)"
   ]
  },
  {
   "cell_type": "code",
   "execution_count": 19,
   "id": "398046c3-aa89-4d23-b0b4-9d88afdaa2d7",
   "metadata": {},
   "outputs": [
    {
     "data": {
      "text/plain": [
       "38"
      ]
     },
     "execution_count": 19,
     "metadata": {},
     "output_type": "execute_result"
    }
   ],
   "source": [
    "len(two_unique_list)"
   ]
  },
  {
   "cell_type": "code",
   "execution_count": 20,
   "id": "bce64f6e-ea0d-44d9-9acc-5f2fd7d9e685",
   "metadata": {},
   "outputs": [
    {
     "data": {
      "text/plain": [
       "15"
      ]
     },
     "execution_count": 20,
     "metadata": {},
     "output_type": "execute_result"
    }
   ],
   "source": [
    "len(three_unique_list)"
   ]
  },
  {
   "cell_type": "code",
   "execution_count": 21,
   "id": "cae483e5-d761-41a3-b39f-ace2df934723",
   "metadata": {},
   "outputs": [
    {
     "data": {
      "text/plain": [
       "13"
      ]
     },
     "execution_count": 21,
     "metadata": {},
     "output_type": "execute_result"
    }
   ],
   "source": [
    "len(four_unique_list)"
   ]
  },
  {
   "cell_type": "code",
   "execution_count": 22,
   "id": "55b6edb9-b1fa-4c4b-9619-2162d74d7413",
   "metadata": {},
   "outputs": [
    {
     "data": {
      "text/plain": [
       "59"
      ]
     },
     "execution_count": 22,
     "metadata": {},
     "output_type": "execute_result"
    }
   ],
   "source": [
    "len(med_unique_list)"
   ]
  },
  {
   "cell_type": "code",
   "execution_count": null,
   "id": "f618f481-b467-401b-9e46-7f2e64d2c90d",
   "metadata": {
    "jupyter": {
     "source_hidden": true
    },
    "tags": []
   },
   "outputs": [],
   "source": []
  },
  {
   "cell_type": "markdown",
   "id": "5225f845-395d-4fa3-a472-48716586ba61",
   "metadata": {},
   "source": [
    "## Replace nan with 0 and categorical values with numerical values inplace"
   ]
  },
  {
   "cell_type": "code",
   "execution_count": 25,
   "id": "403d63ab-4459-40fa-90c3-02ba764ff21b",
   "metadata": {},
   "outputs": [
    {
     "name": "stdout",
     "output_type": "stream",
     "text": [
      "92037\n",
      "--------------\n",
      "90689\n",
      "--------------\n",
      "85730\n",
      "--------------\n",
      "92166\n",
      "--------------\n",
      "72851\n",
      "--------------\n",
      "92165\n",
      "--------------\n",
      "92163\n",
      "--------------\n",
      "92108\n",
      "--------------\n",
      "52621\n",
      "--------------\n",
      "51193\n",
      "--------------\n"
     ]
    }
   ],
   "source": [
    "# check rate of na values in low variety columns\n",
    "for x in one_unique_list:\n",
    "    print(df[x].isna().sum())\n",
    "    print(\"--------------\")"
   ]
  },
  {
   "cell_type": "code",
   "execution_count": 24,
   "id": "733a1631-f01b-4b78-80ea-826c5425db8b",
   "metadata": {},
   "outputs": [
    {
     "name": "stdout",
     "output_type": "stream",
     "text": [
      "×    134\n",
      "Name: Hybrid_Genus_Indicator, dtype: int64\n",
      "--------------\n",
      "×    1482\n",
      "Name: Hybrid_Species_Indicator, dtype: int64\n",
      "--------------\n",
      "ssp.    6441\n",
      "Name: Subspecies_Prefix, dtype: int64\n",
      "--------------\n",
      "×    5\n",
      "Name: Hybrid_Subspecies_Indicator, dtype: int64\n",
      "--------------\n",
      "var.    19320\n",
      "Name: Variety_Prefix, dtype: int64\n",
      "--------------\n",
      "×    6\n",
      "Name: Hybrid_Variety_Indicator, dtype: int64\n",
      "--------------\n",
      "subvar.    8\n",
      "Name: Subvariety_Prefix, dtype: int64\n",
      "--------------\n",
      "f.    63\n",
      "Name: Forma_Prefix, dtype: int64\n",
      "--------------\n",
      "Spermatophyta    39550\n",
      "Name: SuperDivision, dtype: int64\n",
      "--------------\n",
      "Tracheobionta    40978\n",
      "Name: SubKingdom, dtype: int64\n",
      "--------------\n"
     ]
    }
   ],
   "source": [
    "# check name of unique values in low variety columns\n",
    "for x in one_unique_list:\n",
    "    print(df[x].value_counts())\n",
    "    print(\"--------------\")"
   ]
  },
  {
   "cell_type": "code",
   "execution_count": 26,
   "id": "1ddd0f5a-48b8-49d8-888a-948070671e28",
   "metadata": {},
   "outputs": [],
   "source": [
    "# replace single column value with numeric\n",
    "for x in one_unique_list:\n",
    "#     df[x].fillna(0, inplace = True)\n",
    "#     df[x].loc[~df[x].isnull()] = 1\n",
    "    df[x].fillna(0,inplace=True)\n",
    "    df[x]=df[x].apply(lambda x: 1 if x!=0 else 0)\n",
    "#     y = (df[x].unique().tolist())\n",
    "#     df[x] = df[x].map({y:1})\n",
    "#     for z in y:\n",
    "#         print(z) \n",
    "\n",
    "#     df[x].replace({y:1})\n",
    "\n",
    "#     print(y)\n",
    "#     print(len(y)) = 2 x10\n",
    "#     df[x].replace({y:1},inplace=True)"
   ]
  },
  {
   "cell_type": "code",
   "execution_count": 27,
   "id": "752916c4-e849-46ce-834b-217796e611c8",
   "metadata": {},
   "outputs": [
    {
     "name": "stdout",
     "output_type": "stream",
     "text": [
      "0    92037\n",
      "1      134\n",
      "Name: Hybrid_Genus_Indicator, dtype: int64\n",
      "0    90689\n",
      "1     1482\n",
      "Name: Hybrid_Species_Indicator, dtype: int64\n",
      "0    85730\n",
      "1     6441\n",
      "Name: Subspecies_Prefix, dtype: int64\n",
      "0    92166\n",
      "1        5\n",
      "Name: Hybrid_Subspecies_Indicator, dtype: int64\n",
      "0    72851\n",
      "1    19320\n",
      "Name: Variety_Prefix, dtype: int64\n",
      "0    92165\n",
      "1        6\n",
      "Name: Hybrid_Variety_Indicator, dtype: int64\n",
      "0    92163\n",
      "1        8\n",
      "Name: Subvariety_Prefix, dtype: int64\n",
      "0    92108\n",
      "1       63\n",
      "Name: Forma_Prefix, dtype: int64\n",
      "0    52621\n",
      "1    39550\n",
      "Name: SuperDivision, dtype: int64\n",
      "0    51193\n",
      "1    40978\n",
      "Name: SubKingdom, dtype: int64\n"
     ]
    }
   ],
   "source": [
    "for x in one_unique_list:\n",
    "    print(df[x].value_counts())"
   ]
  },
  {
   "cell_type": "code",
   "execution_count": 28,
   "id": "64e9f9d7-c1be-46c6-ae8e-b03340d1fa1c",
   "metadata": {},
   "outputs": [
    {
     "name": "stdout",
     "output_type": "stream",
     "text": [
      "0\n",
      "--------------\n",
      "0\n",
      "--------------\n",
      "0\n",
      "--------------\n",
      "0\n",
      "--------------\n",
      "0\n",
      "--------------\n",
      "0\n",
      "--------------\n",
      "0\n",
      "--------------\n",
      "0\n",
      "--------------\n",
      "0\n",
      "--------------\n",
      "0\n",
      "--------------\n"
     ]
    }
   ],
   "source": [
    "# check rate of na values in low variety columns\n",
    "for x in one_unique_list:\n",
    "    print(df[x].isna().sum())\n",
    "    print(\"--------------\")"
   ]
  },
  {
   "cell_type": "code",
   "execution_count": null,
   "id": "80c798af-49da-41d7-8823-e36d2b8dd4c0",
   "metadata": {},
   "outputs": [],
   "source": [
    "# # check name of unique values in low variety columns\n",
    "# for x in two_unique_list:\n",
    "#     print(df[x].unique().tolist())\n",
    "#     print(\"--------------\")"
   ]
  },
  {
   "cell_type": "code",
   "execution_count": 30,
   "id": "d9f64445-1868-4cd9-8d98-7a3161fa3bb6",
   "metadata": {},
   "outputs": [
    {
     "name": "stdout",
     "output_type": "stream",
     "text": [
      "43775\n",
      "--------------\n",
      "92076\n",
      "--------------\n",
      "91411\n",
      "--------------\n",
      "91090\n",
      "--------------\n",
      "91090\n",
      "--------------\n",
      "91090\n",
      "--------------\n",
      "91090\n",
      "--------------\n",
      "91090\n",
      "--------------\n",
      "91090\n",
      "--------------\n",
      "91090\n",
      "--------------\n",
      "91090\n",
      "--------------\n",
      "91090\n",
      "--------------\n",
      "91090\n",
      "--------------\n",
      "91090\n",
      "--------------\n",
      "91090\n",
      "--------------\n",
      "91090\n",
      "--------------\n",
      "91090\n",
      "--------------\n",
      "91090\n",
      "--------------\n",
      "91090\n",
      "--------------\n",
      "91090\n",
      "--------------\n",
      "91090\n",
      "--------------\n",
      "91090\n",
      "--------------\n",
      "91090\n",
      "--------------\n",
      "91090\n",
      "--------------\n",
      "91090\n",
      "--------------\n",
      "91090\n",
      "--------------\n",
      "91090\n",
      "--------------\n",
      "91090\n",
      "--------------\n",
      "91090\n",
      "--------------\n",
      "91090\n",
      "--------------\n",
      "91090\n",
      "--------------\n",
      "91090\n",
      "--------------\n",
      "91090\n",
      "--------------\n",
      "91090\n",
      "--------------\n",
      "91090\n",
      "--------------\n",
      "91090\n",
      "--------------\n",
      "91090\n",
      "--------------\n",
      "91090\n",
      "--------------\n"
     ]
    }
   ],
   "source": [
    "# check rate of na values in low variety columns\n",
    "for x in two_unique_list:\n",
    "    print(df[x].isna().sum())\n",
    "    print(\"--------------\")"
   ]
  },
  {
   "cell_type": "code",
   "execution_count": 29,
   "id": "bc8c80e6-88e4-4133-bf2d-5f0a8c0cf4b7",
   "metadata": {},
   "outputs": [
    {
     "name": "stdout",
     "output_type": "stream",
     "text": [
      "Plantae    43786\n",
      "Fungi       4610\n",
      "Name: Kingdom, dtype: int64\n",
      "--------------\n",
      "NW       94\n",
      "NW, Q     1\n",
      "Name: Federal_Noxious_Status, dtype: int64\n",
      "--------------\n",
      "Endangered    609\n",
      "Threatened    151\n",
      "Name: Federal_T_E_Status, dtype: int64\n",
      "--------------\n",
      "No     936\n",
      "Yes    145\n",
      "Name: Coppice_Potential, dtype: int64\n",
      "--------------\n",
      "No     868\n",
      "Yes    213\n",
      "Name: Fall_Conspicuous, dtype: int64\n",
      "--------------\n",
      "No     991\n",
      "Yes     90\n",
      "Name: Fire_Resistance, dtype: int64\n",
      "--------------\n",
      "No     604\n",
      "Yes    477\n",
      "Name: Flower_Conspicuous, dtype: int64\n",
      "--------------\n",
      "No     734\n",
      "Yes    347\n",
      "Name: Fruit_Conspicuous, dtype: int64\n",
      "--------------\n",
      "No     1048\n",
      "Yes      33\n",
      "Name: Known_Allelopath, dtype: int64\n",
      "--------------\n",
      "No     942\n",
      "Yes    139\n",
      "Name: Leaf_Retention, dtype: int64\n",
      "--------------\n",
      "No     1000\n",
      "Yes      81\n",
      "Name: Low_Growing_Grass, dtype: int64\n",
      "--------------\n",
      "No     747\n",
      "Yes    334\n",
      "Name: Resprout_Ability, dtype: int64\n",
      "--------------\n",
      "Yes    767\n",
      "No     314\n",
      "Name: Adapted_to_Coarse_Textured_Soils, dtype: int64\n",
      "--------------\n",
      "Yes    1045\n",
      "No       36\n",
      "Name: Adapted_to_Medium_Textured_Soils, dtype: int64\n",
      "--------------\n",
      "Yes    589\n",
      "No     492\n",
      "Name: Adapted_to_Fine_Textured_Soils, dtype: int64\n",
      "--------------\n",
      "No     734\n",
      "Yes    347\n",
      "Name: Cold_Stratification_Required, dtype: int64\n",
      "--------------\n",
      "No     833\n",
      "Yes    248\n",
      "Name: Fruit_Seed_Persistence, dtype: int64\n",
      "--------------\n",
      "Yes    593\n",
      "No     488\n",
      "Name: Propogated_by_Bare_Root, dtype: int64\n",
      "--------------\n",
      "No     1068\n",
      "Yes      13\n",
      "Name: Propogated_by_Bulbs, dtype: int64\n",
      "--------------\n",
      "No     563\n",
      "Yes    518\n",
      "Name: Propogated_by_Container, dtype: int64\n",
      "--------------\n",
      "No     1071\n",
      "Yes      10\n",
      "Name: Propogated_by_Corms, dtype: int64\n",
      "--------------\n",
      "No     844\n",
      "Yes    237\n",
      "Name: Propogated_by_Cuttings, dtype: int64\n",
      "--------------\n",
      "Yes    1004\n",
      "No       77\n",
      "Name: Propogated_by_Seed, dtype: int64\n",
      "--------------\n",
      "No     1073\n",
      "Yes       8\n",
      "Name: Propogated_by_Sod, dtype: int64\n",
      "--------------\n",
      "No     824\n",
      "Yes    257\n",
      "Name: Propogated_by_Sprigs, dtype: int64\n",
      "--------------\n",
      "No     1070\n",
      "Yes      11\n",
      "Name: Propogated_by_Tubers, dtype: int64\n",
      "--------------\n",
      "No     1073\n",
      "Yes       8\n",
      "Name: Small_Grain, dtype: int64\n",
      "--------------\n",
      "No     1012\n",
      "Yes      69\n",
      "Name: Berry_Nut_Seed_Product, dtype: int64\n",
      "--------------\n",
      "No     1062\n",
      "Yes      19\n",
      "Name: Christmas_Tree_Product, dtype: int64\n",
      "--------------\n",
      "No     840\n",
      "Yes    241\n",
      "Name: Fodder_Product, dtype: int64\n",
      "--------------\n",
      "No     1017\n",
      "Yes      64\n",
      "Name: Lumber_Product, dtype: int64\n",
      "--------------\n",
      "No     1050\n",
      "Yes      31\n",
      "Name: Naval_Store_Product, dtype: int64\n",
      "--------------\n",
      "No     692\n",
      "Yes    389\n",
      "Name: Nursery_Stock_Product, dtype: int64\n",
      "--------------\n",
      "No     928\n",
      "Yes    153\n",
      "Name: Palatable_Human, dtype: int64\n",
      "--------------\n",
      "No     1036\n",
      "Yes      45\n",
      "Name: Post_Product, dtype: int64\n",
      "--------------\n",
      "Low       775\n",
      "Medium    306\n",
      "Name: Protein_Potential, dtype: int64\n",
      "--------------\n",
      "No     1026\n",
      "Yes      55\n",
      "Name: Pulpwood_Product, dtype: int64\n",
      "--------------\n",
      "No     1021\n",
      "Yes      60\n",
      "Name: Veneer_Product, dtype: int64\n",
      "--------------\n"
     ]
    }
   ],
   "source": [
    "# check name of unique values in low variety columns\n",
    "for x in two_unique_list:\n",
    "    print(df[x].value_counts())\n",
    "    print(\"--------------\")"
   ]
  },
  {
   "cell_type": "code",
   "execution_count": 31,
   "id": "811dad18-3479-4811-9149-49d9cdd75167",
   "metadata": {},
   "outputs": [],
   "source": [
    "# replace single column value with numeric\n",
    "for x in two_unique_list:\n",
    "#     df[x].fillna(0, inplace=True)\n",
    "    df[x] = pd.factorize(df[x], na_sentinel=None)[0]"
   ]
  },
  {
   "cell_type": "code",
   "execution_count": 32,
   "id": "948ae95c-d2ad-473e-bf0a-a10360e62225",
   "metadata": {},
   "outputs": [
    {
     "name": "stdout",
     "output_type": "stream",
     "text": [
      "0    43786\n",
      "2    43775\n",
      "1     4610\n",
      "Name: Kingdom, dtype: int64\n",
      "--------------\n",
      "2    92076\n",
      "0       94\n",
      "1        1\n",
      "Name: Federal_Noxious_Status, dtype: int64\n",
      "--------------\n",
      "2    91411\n",
      "0      609\n",
      "1      151\n",
      "Name: Federal_T_E_Status, dtype: int64\n",
      "--------------\n",
      "2    91090\n",
      "0      936\n",
      "1      145\n",
      "Name: Coppice_Potential, dtype: int64\n",
      "--------------\n",
      "2    91090\n",
      "0      868\n",
      "1      213\n",
      "Name: Fall_Conspicuous, dtype: int64\n",
      "--------------\n",
      "2    91090\n",
      "0      991\n",
      "1       90\n",
      "Name: Fire_Resistance, dtype: int64\n",
      "--------------\n",
      "2    91090\n",
      "0      604\n",
      "1      477\n",
      "Name: Flower_Conspicuous, dtype: int64\n",
      "--------------\n",
      "2    91090\n",
      "0      734\n",
      "1      347\n",
      "Name: Fruit_Conspicuous, dtype: int64\n",
      "--------------\n",
      "2    91090\n",
      "0     1048\n",
      "1       33\n",
      "Name: Known_Allelopath, dtype: int64\n",
      "--------------\n",
      "2    91090\n",
      "1      942\n",
      "0      139\n",
      "Name: Leaf_Retention, dtype: int64\n",
      "--------------\n",
      "2    91090\n",
      "0     1000\n",
      "1       81\n",
      "Name: Low_Growing_Grass, dtype: int64\n",
      "--------------\n",
      "2    91090\n",
      "0      747\n",
      "1      334\n",
      "Name: Resprout_Ability, dtype: int64\n",
      "--------------\n",
      "2    91090\n",
      "0      767\n",
      "1      314\n",
      "Name: Adapted_to_Coarse_Textured_Soils, dtype: int64\n",
      "--------------\n",
      "2    91090\n",
      "0     1045\n",
      "1       36\n",
      "Name: Adapted_to_Medium_Textured_Soils, dtype: int64\n",
      "--------------\n",
      "2    91090\n",
      "0      589\n",
      "1      492\n",
      "Name: Adapted_to_Fine_Textured_Soils, dtype: int64\n",
      "--------------\n",
      "2    91090\n",
      "1      734\n",
      "0      347\n",
      "Name: Cold_Stratification_Required, dtype: int64\n",
      "--------------\n",
      "2    91090\n",
      "0      833\n",
      "1      248\n",
      "Name: Fruit_Seed_Persistence, dtype: int64\n",
      "--------------\n",
      "2    91090\n",
      "0      593\n",
      "1      488\n",
      "Name: Propogated_by_Bare_Root, dtype: int64\n",
      "--------------\n",
      "2    91090\n",
      "0     1068\n",
      "1       13\n",
      "Name: Propogated_by_Bulbs, dtype: int64\n",
      "--------------\n",
      "2    91090\n",
      "1      563\n",
      "0      518\n",
      "Name: Propogated_by_Container, dtype: int64\n",
      "--------------\n",
      "2    91090\n",
      "0     1071\n",
      "1       10\n",
      "Name: Propogated_by_Corms, dtype: int64\n",
      "--------------\n",
      "2    91090\n",
      "0      844\n",
      "1      237\n",
      "Name: Propogated_by_Cuttings, dtype: int64\n",
      "--------------\n",
      "2    91090\n",
      "0     1004\n",
      "1       77\n",
      "Name: Propogated_by_Seed, dtype: int64\n",
      "--------------\n",
      "2    91090\n",
      "0     1073\n",
      "1        8\n",
      "Name: Propogated_by_Sod, dtype: int64\n",
      "--------------\n",
      "2    91090\n",
      "0      824\n",
      "1      257\n",
      "Name: Propogated_by_Sprigs, dtype: int64\n",
      "--------------\n",
      "2    91090\n",
      "0     1070\n",
      "1       11\n",
      "Name: Propogated_by_Tubers, dtype: int64\n",
      "--------------\n",
      "2    91090\n",
      "0     1073\n",
      "1        8\n",
      "Name: Small_Grain, dtype: int64\n",
      "--------------\n",
      "2    91090\n",
      "0     1012\n",
      "1       69\n",
      "Name: Berry_Nut_Seed_Product, dtype: int64\n",
      "--------------\n",
      "2    91090\n",
      "1     1062\n",
      "0       19\n",
      "Name: Christmas_Tree_Product, dtype: int64\n",
      "--------------\n",
      "2    91090\n",
      "0      840\n",
      "1      241\n",
      "Name: Fodder_Product, dtype: int64\n",
      "--------------\n",
      "2    91090\n",
      "1     1017\n",
      "0       64\n",
      "Name: Lumber_Product, dtype: int64\n",
      "--------------\n",
      "2    91090\n",
      "1     1050\n",
      "0       31\n",
      "Name: Naval_Store_Product, dtype: int64\n",
      "--------------\n",
      "2    91090\n",
      "1      692\n",
      "0      389\n",
      "Name: Nursery_Stock_Product, dtype: int64\n",
      "--------------\n",
      "2    91090\n",
      "0      928\n",
      "1      153\n",
      "Name: Palatable_Human, dtype: int64\n",
      "--------------\n",
      "2    91090\n",
      "0     1036\n",
      "1       45\n",
      "Name: Post_Product, dtype: int64\n",
      "--------------\n",
      "2    91090\n",
      "0      775\n",
      "1      306\n",
      "Name: Protein_Potential, dtype: int64\n",
      "--------------\n",
      "2    91090\n",
      "1     1026\n",
      "0       55\n",
      "Name: Pulpwood_Product, dtype: int64\n",
      "--------------\n",
      "2    91090\n",
      "1     1021\n",
      "0       60\n",
      "Name: Veneer_Product, dtype: int64\n",
      "--------------\n"
     ]
    }
   ],
   "source": [
    "# check name of unique values in low variety columns\n",
    "for x in two_unique_list:\n",
    "    print(df[x].value_counts())\n",
    "    print(\"--------------\")"
   ]
  },
  {
   "cell_type": "code",
   "execution_count": 33,
   "id": "caccc671-811b-4b48-99e3-78c1be4f10c0",
   "metadata": {},
   "outputs": [
    {
     "name": "stdout",
     "output_type": "stream",
     "text": [
      "0\n",
      "--------------\n",
      "0\n",
      "--------------\n",
      "0\n",
      "--------------\n",
      "0\n",
      "--------------\n",
      "0\n",
      "--------------\n",
      "0\n",
      "--------------\n",
      "0\n",
      "--------------\n",
      "0\n",
      "--------------\n",
      "0\n",
      "--------------\n",
      "0\n",
      "--------------\n",
      "0\n",
      "--------------\n",
      "0\n",
      "--------------\n",
      "0\n",
      "--------------\n",
      "0\n",
      "--------------\n",
      "0\n",
      "--------------\n",
      "0\n",
      "--------------\n",
      "0\n",
      "--------------\n",
      "0\n",
      "--------------\n",
      "0\n",
      "--------------\n",
      "0\n",
      "--------------\n",
      "0\n",
      "--------------\n",
      "0\n",
      "--------------\n",
      "0\n",
      "--------------\n",
      "0\n",
      "--------------\n",
      "0\n",
      "--------------\n",
      "0\n",
      "--------------\n",
      "0\n",
      "--------------\n",
      "0\n",
      "--------------\n",
      "0\n",
      "--------------\n",
      "0\n",
      "--------------\n",
      "0\n",
      "--------------\n",
      "0\n",
      "--------------\n",
      "0\n",
      "--------------\n",
      "0\n",
      "--------------\n",
      "0\n",
      "--------------\n",
      "0\n",
      "--------------\n",
      "0\n",
      "--------------\n",
      "0\n",
      "--------------\n"
     ]
    }
   ],
   "source": [
    "# check rate of na values in low variety columns\n",
    "for x in two_unique_list:\n",
    "    print(df[x].isna().sum())\n",
    "    print(\"--------------\")"
   ]
  },
  {
   "cell_type": "code",
   "execution_count": null,
   "id": "649fc98a-dc20-436f-860b-28ae156b4e89",
   "metadata": {},
   "outputs": [],
   "source": [
    "# # replace single column value with numeric\n",
    "# for x in two_unique_list:\n",
    "# #     df[x].fillna(0, inplace=True)\n",
    "#     df[x + '_Fact'] = pd.factorize(df[x], na_sentinel=None)[0]\n",
    "# #     df.drop(columns=[x])\n",
    "# #     df[x] = df[x].replace(np.nan,0)\n",
    "# #     if y != na:\n",
    "        \n",
    "# #     print(y) = [nan 'x']\n",
    "# #     print(type(y)) = numpy array\n",
    "# #     print(len(y)) = 2 x10\n",
    "# #     df[x].replace({y:1},inplace=True)"
   ]
  },
  {
   "cell_type": "code",
   "execution_count": null,
   "id": "4a7a0499-d73f-4d9d-a53b-c2973c3d2b20",
   "metadata": {},
   "outputs": [],
   "source": [
    "# check name of unique values in low variety columns\n",
    "for x in two_unique_list:\n",
    "    print(df[x].unique().tolist())\n",
    "    print(\"--------------\")"
   ]
  },
  {
   "cell_type": "code",
   "execution_count": null,
   "id": "a16db82d-3d79-4af9-a0e9-5328ac4158c6",
   "metadata": {},
   "outputs": [],
   "source": [
    "df.head()"
   ]
  },
  {
   "cell_type": "code",
   "execution_count": null,
   "id": "472546f1-a343-44bf-90b6-e68351bd1685",
   "metadata": {},
   "outputs": [],
   "source": [
    "# replace single column value with numeric\n",
    "for x in rando_list:\n",
    "#     df[x].fillna(0, inplace = True)\n",
    "#     df[x].loc[~df[x].isnull()] = 1\n",
    "    df[x].fillna(0,inplace=True)\n",
    "    df[x]=df[x].apply(lambda x: 1 if x!=0 else 0)\n",
    "#     y = (df[x].unique().tolist())\n",
    "#     df[x] = df[x].map({y:1})\n",
    "#     for z in y:\n",
    "#         print(z) \n",
    "\n",
    "#     df[x].replace({y:1})\n",
    "\n",
    "#     print(y)\n",
    "#     print(len(y)) = 2 x10\n",
    "#     df[x].replace({y:1},inplace=True)"
   ]
  },
  {
   "cell_type": "code",
   "execution_count": null,
   "id": "fb4b93b5-1585-4fa1-a29a-575f0f0c42a1",
   "metadata": {},
   "outputs": [],
   "source": [
    "# check rate of na values in low variety columns\n",
    "for x in two_unique_list:\n",
    "    print(df[x].describe())\n",
    "    print(\"--------------\")"
   ]
  },
  {
   "cell_type": "code",
   "execution_count": null,
   "id": "650c7f2e-4d3f-40df-a001-83a1f4502cda",
   "metadata": {},
   "outputs": [],
   "source": []
  },
  {
   "cell_type": "code",
   "execution_count": null,
   "id": "465cb8dc-622b-4a3a-b134-70582e8e2e39",
   "metadata": {},
   "outputs": [],
   "source": [
    "# hot encode binaries into column\n"
   ]
  },
  {
   "cell_type": "code",
   "execution_count": null,
   "id": "eb786a00-091d-4497-a216-b54cfe9d2553",
   "metadata": {},
   "outputs": [],
   "source": [
    "# for column in column_list:\n",
    "#     print(df[column].describe())\n",
    "#     print('----------')"
   ]
  },
  {
   "cell_type": "code",
   "execution_count": null,
   "id": "73628084-2c62-4e62-b4df-6a173837d605",
   "metadata": {},
   "outputs": [],
   "source": [
    "df['State_and_Province'].value_counts()"
   ]
  },
  {
   "cell_type": "code",
   "execution_count": null,
   "id": "f2e1f261-0f3a-4530-bec6-abe88057854e",
   "metadata": {},
   "outputs": [],
   "source": [
    "# get details on plant presence\n",
    "print(df.State_and_Province.describe())"
   ]
  },
  {
   "cell_type": "code",
   "execution_count": null,
   "id": "71d4cc21-5cd5-4c50-8d5d-ff134f37e731",
   "metadata": {},
   "outputs": [],
   "source": [
    "# get details on plant noxious status\n",
    "print(df.State_Noxious_Status.describe())"
   ]
  },
  {
   "cell_type": "code",
   "execution_count": null,
   "id": "b7b1e5a1-366c-4fda-8462-ca2a78eae398",
   "metadata": {},
   "outputs": [],
   "source": [
    "df.State_T_E_Status.value_counts()"
   ]
  },
  {
   "cell_type": "code",
   "execution_count": null,
   "id": "d43a1455-95d8-409c-a6bd-6167b9788fb8",
   "metadata": {
    "tags": []
   },
   "outputs": [],
   "source": []
  },
  {
   "cell_type": "code",
   "execution_count": null,
   "id": "072115fc-d537-4077-87e5-0e83a426bb6a",
   "metadata": {
    "tags": []
   },
   "outputs": [],
   "source": []
  },
  {
   "cell_type": "markdown",
   "id": "e7f55683-67e2-41a5-8d3b-d287858c1ae9",
   "metadata": {},
   "source": [
    "# CREATE ENRICHED DATASET"
   ]
  },
  {
   "cell_type": "code",
   "execution_count": null,
   "id": "d57cb433-b947-4965-b968-288535098937",
   "metadata": {},
   "outputs": [],
   "source": [
    "column_list_groups = [['id', 'drop'],\n",
    " ['Symbol', 'drop'],\n",
    " ['Accepted_Symbol_x', 'shorthand for scientific name'],\n",
    " ['Synonym_Symbol_x', 'drop'],\n",
    " ['Scientific_Name_x', 'drop'],\n",
    " ['Hybrid_Genus_Indicator', 'T/F'],\n",
    " ['Hybrid_Species_Indicator', 'T/F'],\n",
    " ['Species', 'repeats'],\n",
    " ['Subspecies_Prefix', 'T/F'],\n",
    " ['Hybrid_Subspecies_Indicator', 'drop'],\n",
    " ['Subspecies', 'repeats (similar to species)'],\n",
    " ['Variety_Prefix', 'drop'],\n",
    " ['Hybrid_Variety_Indicator', 'drop'],\n",
    " ['Variety', '72k nulls some overlap with other columns'],\n",
    " ['Subvariety_Prefix', 'drop'],\n",
    " ['Subvariety', 'drop'],\n",
    " ['Forma_Prefix', 'drop'],\n",
    " ['Forma', 'drop'],\n",
    " ['Genera_Binomial_Author', 'discovering author'],\n",
    " ['Trinomial_Author', 'drop'],\n",
    " ['Quadranomial_Author', 'drop'],\n",
    " ['Questionable_Taxon_Indicator', 'drop'],\n",
    " ['Parents', 'drop'],\n",
    " ['Common_Name', 'T/F'],\n",
    " ['State_and_Province', 'is present column'],\n",
    " ['Category', 'fill na'],\n",
    " ['Family', 'drop'],\n",
    " ['Family_Symbol', 'fill na'],\n",
    " ['Family_Common_Name', 'fill na'],\n",
    " ['xOrder', 'fill na'],\n",
    " ['SubClass', 'fill na'],\n",
    " ['Class', 'fill na'],\n",
    " ['SubDivision', 'drop'],\n",
    " ['Division', 'fill na'],\n",
    " ['SuperDivision', 'fill na'],\n",
    " ['SubKingdom', 'fill na'],\n",
    " ['Kingdom', 'fill na'],\n",
    " ['Duration', 'split and fill na'],\n",
    " ['Growth_Habit', 'Split dummies and fill na'],\n",
    " ['Native_Status', 'more thought'],\n",
    " ['Federal_Noxious_Status', 'Combine with State'],\n",
    " ['State_Noxious_Status', 'Filter to NC and combine'],\n",
    " ['State_Noxious_Common_Name', 'drop'],\n",
    " ['Invasive', 'potential target'],\n",
    " ['Federal_T_E_Status', 'fill na'],\n",
    " ['State_T_E_Status', 'filter to nc'],\n",
    " ['State_T_E_Common_Name', 'drop'],\n",
    " ['Accepted_Symbol_y', 'drop'],\n",
    " ['Synonym_Symbol_y', 'drop'],\n",
    " ['Scientific_Name_y', 'drop'],\n",
    " ['Active_Growth_Period', 'Enriched Dataset'],\n",
    " ['After_Harvest_Regrowth_Rate', 'Enriched Dataset'],\n",
    " ['Bloat', 'Enriched Dataset'],\n",
    " ['C_N_Ratio', 'Enriched Dataset'],\n",
    " ['Coppice_Potential', 'Enriched Dataset'],\n",
    " ['Fall_Conspicuous', 'Enriched Dataset'],\n",
    " ['Fire_Resistance', 'Enriched Dataset'],\n",
    " ['Flower_Color', 'fill na'],\n",
    " ['Flower_Conspicuous', 'Enriched Dataset'],\n",
    " ['Foliage_Color', 'Enriched Dataset'],\n",
    " ['Foliage_Porosity_Summer', 'Enriched Dataset'],\n",
    " ['Foliage_Porosity_Winter', 'Enriched Dataset'],\n",
    " ['Foliage_Texture', 'Enriched Dataset'],\n",
    " ['Fruit_Color', 'Enriched Dataset'],\n",
    " ['Fruit_Conspicuous', 'Enriched Dataset'],\n",
    " ['Growth_Form', 'Enriched Dataset'],\n",
    " ['Growth_Rate', 'Enriched Dataset'],\n",
    " ['Height_at_Base_Age_Maximum_feet', 'Enriched Dataset'],\n",
    " ['Height_Mature_feet', 'Enriched Dataset'],\n",
    " ['Known_Allelopath', 'Enriched Dataset'],\n",
    " ['Leaf_Retention', 'Enriched Dataset'],\n",
    " ['Lifespan', 'Enriched Dataset'],\n",
    " ['Low_Growing_Grass', 'Enriched Dataset'],\n",
    " ['Nitrogen_Fixation', 'Enriched Dataset'],\n",
    " ['Resprout_Ability', 'Enriched Dataset'],\n",
    " ['Shape_and_Orientation', 'Enriched Dataset'],\n",
    " ['Toxicity', 'Enriched Dataset'],\n",
    " ['Adapted_to_Coarse_Textured_Soils', 'Enriched Dataset'],\n",
    " ['Adapted_to_Medium_Textured_Soils', 'Enriched Dataset'],\n",
    " ['Adapted_to_Fine_Textured_Soils', 'Enriched Dataset'],\n",
    " ['Anaerobic_Tolerance', 'Enriched Dataset'],\n",
    " ['CaCO_3_Tolerance', 'Enriched Dataset'],\n",
    " ['Cold_Stratification_Required', 'Enriched Dataset'],\n",
    " ['Drought_Tolerance', 'Enriched Dataset'],\n",
    " ['Fertility_Requirement', 'Enriched Dataset'],\n",
    " ['Fire_Tolerance', 'Enriched Dataset'],\n",
    " ['Frost_Free_Days_Minimum', 'Enriched Dataset'],\n",
    " ['Hedge_Tolerance', 'Enriched Dataset'],\n",
    " ['Moisture_Use', 'Enriched Dataset'],\n",
    " ['pH_Minimum', 'Enriched Dataset'],\n",
    " ['pH_Maximum', 'Enriched Dataset'],\n",
    " ['Planting_Density_per_Acre_Minimum', 'Enriched Dataset'],\n",
    " ['Planting_Density_per_Acre_Maximum', 'Enriched Dataset'],\n",
    " ['Precipitation_Minimum', 'Enriched Dataset'],\n",
    " ['Precipitation_Maximum', 'Enriched Dataset'],\n",
    " ['Root_Depth_Minimum_inches', 'Enriched Dataset'],\n",
    " ['Salinity_Tolerance', 'Enriched Dataset'],\n",
    " ['Shade_Tolerance', 'Enriched Dataset'],\n",
    " ['Temperature_Minimum_F', 'Enriched Dataset'],\n",
    " ['Bloom_Period', 'Enriched Dataset'],\n",
    " ['Commercial_Availability', 'Enriched Dataset'],\n",
    " ['Fruit_Seed_Abundance', 'Enriched Dataset'],\n",
    " ['Fruit_Seed_Period_Begin', 'Enriched Dataset'],\n",
    " ['Fruit_Seed_Period_End', 'Enriched Dataset'],\n",
    " ['Fruit_Seed_Persistence', 'Enriched Dataset'],\n",
    " ['Propogated_by_Bare_Root', 'Enriched Dataset'],\n",
    " ['Propogated_by_Bulbs', 'Enriched Dataset'],\n",
    " ['Propogated_by_Container', 'Enriched Dataset'],\n",
    " ['Propogated_by_Corms', 'Enriched Dataset'],\n",
    " ['Propogated_by_Cuttings', 'Enriched Dataset'],\n",
    " ['Propogated_by_Seed', 'Enriched Dataset'],\n",
    " ['Propogated_by_Sod', 'Enriched Dataset'],\n",
    " ['Propogated_by_Sprigs', 'Enriched Dataset'],\n",
    " ['Propogated_by_Tubers', 'Enriched Dataset'],\n",
    " ['Seeds_per_Pound', 'Enriched Dataset'],\n",
    " ['Seed_Spread_Rate', 'Enriched Dataset'],\n",
    " ['Seedling_Vigor', 'Enriched Dataset'],\n",
    " ['Small_Grain', 'Enriched Dataset'],\n",
    " ['Vegetative_Spread_Rate', 'Enriched Dataset'],\n",
    " ['Berry_Nut_Seed_Product', 'Enriched Dataset'],\n",
    " ['Christmas_Tree_Product', 'Enriched Dataset'],\n",
    " ['Fodder_Product', 'Enriched Dataset'],\n",
    " ['Fuelwood_Product', 'Enriched Dataset'],\n",
    " ['Lumber_Product', 'Enriched Dataset'],\n",
    " ['Naval_Store_Product', 'Enriched Dataset'],\n",
    " ['Nursery_Stock_Product', 'Enriched Dataset'],\n",
    " ['Palatable_Browse_Animal', 'Enriched Dataset'],\n",
    " ['Palatable_Graze_Animal', 'Enriched Dataset'],\n",
    " ['Palatable_Human', 'Enriched Dataset'],\n",
    " ['Post_Product', 'Enriched Dataset'],\n",
    " ['Protein_Potential', 'Enriched Dataset'],\n",
    " ['Pulpwood_Product', 'Enriched Dataset'],\n",
    " ['Veneer_Product', 'Enriched Dataset'],\n",
    " ['Genus', 'use']]"
   ]
  },
  {
   "cell_type": "code",
   "execution_count": null,
   "id": "cb81a243-fee3-4e26-9a1f-288ee9482a76",
   "metadata": {},
   "outputs": [],
   "source": [
    "# use list comprehension\n",
    "enriched_dataset = [col[0] for col in column_list_groups if col[1] == 'Enriched Dataset']"
   ]
  },
  {
   "cell_type": "code",
   "execution_count": null,
   "id": "fc11af08-d19f-454c-b318-92adb62ef998",
   "metadata": {},
   "outputs": [],
   "source": [
    "enriched_dataset"
   ]
  },
  {
   "cell_type": "code",
   "execution_count": null,
   "id": "89f5c717-03a0-4592-ae65-d19dbb5da287",
   "metadata": {},
   "outputs": [],
   "source": [
    "# Create enriched dataset\n",
    "df_enriched = pd.DataFrame(df, columns = [enriched_dataset])"
   ]
  },
  {
   "cell_type": "code",
   "execution_count": null,
   "id": "24619c97-5792-41b2-944b-d9e8042174b3",
   "metadata": {},
   "outputs": [],
   "source": [
    "df_enriched.head()"
   ]
  },
  {
   "cell_type": "code",
   "execution_count": null,
   "id": "81b172ad-7d1b-4d47-85ed-ee587e0c86e3",
   "metadata": {},
   "outputs": [],
   "source": [
    "# need to trim rows for only 10000 subset with complete enriched data\n"
   ]
  },
  {
   "cell_type": "markdown",
   "id": "4337f91e-41e4-4fa5-a9b6-ea95018ab099",
   "metadata": {},
   "source": [
    "## CORE DATASET"
   ]
  },
  {
   "cell_type": "code",
   "execution_count": null,
   "id": "db58c98e-aa4b-42d7-8aa3-509ee87d500d",
   "metadata": {},
   "outputs": [],
   "source": [
    "df_core = pd.DataFrame(df, columns = [\n",
    " 'Accepted_Symbol_x',\n",
    " 'Hybrid_Genus_Indicator',\n",
    " 'Hybrid_Species_Indicator',\n",
    " 'Species',\n",
    " 'Subspecies_Prefix',\n",
    " 'Variety',\n",
    " 'Genera_Binomial_Author',\n",
    " 'Common_Name',\n",
    " 'State_and_Province',\n",
    " 'Category',\n",
    " 'Family_Symbol',\n",
    " 'Family_Common_Name',\n",
    " 'xOrder',\n",
    " 'SubClass',\n",
    " 'Class',\n",
    " 'Division',\n",
    " 'SuperDivision',\n",
    " 'SubKingdom',\n",
    " 'Kingdom',\n",
    " 'Duration',\n",
    " 'Growth_Habit',\n",
    " 'Native_Status',\n",
    " 'Federal_T_E_Status',\n",
    " 'State_T_E_Status',\n",
    "'State_Noxious_Status',\n",
    " 'Genus'])"
   ]
  },
  {
   "cell_type": "code",
   "execution_count": null,
   "id": "252c97dd-4223-440c-bf09-ee97a01f5f04",
   "metadata": {},
   "outputs": [],
   "source": [
    "df_core.head()"
   ]
  },
  {
   "cell_type": "code",
   "execution_count": null,
   "id": "a7d030b7-570f-4541-a00f-111e806df73f",
   "metadata": {},
   "outputs": [],
   "source": [
    "df_core['State_and_Province'] = df_core['State_and_Province'].astype('string')"
   ]
  },
  {
   "cell_type": "code",
   "execution_count": null,
   "id": "10e3832d-2b17-473e-881f-59dcc76a55dd",
   "metadata": {},
   "outputs": [],
   "source": [
    "df_core['State_and_Province'].isna().value_counts().sort_values()"
   ]
  },
  {
   "cell_type": "code",
   "execution_count": null,
   "id": "0ef839e0-69cb-46ed-a57d-d607e12f617e",
   "metadata": {},
   "outputs": [],
   "source": [
    "core_column_list = list(df_core)"
   ]
  },
  {
   "cell_type": "code",
   "execution_count": null,
   "id": "ff9f832c-c164-45e0-b4b1-f4716f10f4c6",
   "metadata": {},
   "outputs": [],
   "source": [
    "# for column in core_column_list:\n",
    "#     print(df_core[column].isna().value_counts().sort_values())\n",
    "#     print('-------------')\n",
    "#     print(df_core[column].describe())\n",
    "#     print('-------------')\n",
    "#     print('-------------')\n",
    "#     print('-------------')"
   ]
  },
  {
   "cell_type": "code",
   "execution_count": null,
   "id": "02fa84dd-eaab-4196-9cd5-24d27315114a",
   "metadata": {},
   "outputs": [],
   "source": [
    "df_core.isna().sum()"
   ]
  },
  {
   "cell_type": "code",
   "execution_count": null,
   "id": "85b2c529-f08b-440f-a411-25b9d553e78a",
   "metadata": {},
   "outputs": [],
   "source": [
    "# values = {'State_and_Province':'unknown','Native_Status':'unknown',}\n",
    "df_core.fillna('unknown', inplace=True)"
   ]
  },
  {
   "cell_type": "code",
   "execution_count": null,
   "id": "bbebddab-2813-4482-8348-ce159961fad1",
   "metadata": {},
   "outputs": [],
   "source": [
    "df_core.isna().sum()"
   ]
  },
  {
   "cell_type": "code",
   "execution_count": null,
   "id": "e268c305-78cd-478d-8f76-55843fa8af5a",
   "metadata": {},
   "outputs": [],
   "source": [
    "# # function to id 'Lower 48' states code in super string\n",
    "# def in_l48(string):\n",
    "#         if string.find('L48') == -1:\n",
    "#             return False\n",
    "#         else:\n",
    "#             return True"
   ]
  },
  {
   "cell_type": "code",
   "execution_count": null,
   "id": "658b50ad-a8d1-417a-b55d-ce0cf0da3616",
   "metadata": {},
   "outputs": [],
   "source": [
    "# # function to id 'NC' state code in super string\n",
    "# def in_nc(string):\n",
    "#         if string.find('NC') == -1:\n",
    "#             return False\n",
    "#         else:\n",
    "#             return True"
   ]
  },
  {
   "cell_type": "code",
   "execution_count": null,
   "id": "f3f13a6d-65e9-42a7-b62b-43c7adbd84c5",
   "metadata": {},
   "outputs": [],
   "source": [
    "# df_core_nc = df_core.copy()"
   ]
  },
  {
   "cell_type": "code",
   "execution_count": null,
   "id": "5b38b3da-de43-4f7c-9bab-6a751a48dcaa",
   "metadata": {},
   "outputs": [],
   "source": [
    "# create df with nc nativity known\n",
    "# df_core_nc['In_NC'] = df_core['State_and_Province'].apply(in_nc)\n",
    "# df_core_nc['Native_L48'] = df_core['Native_Status'].apply(in_l48)\n",
    "# df_core_nc['Native_NC'] = df_core['Native_Status'].apply(in_nc)"
   ]
  },
  {
   "cell_type": "code",
   "execution_count": null,
   "id": "2de6e757-a323-4bd0-baa9-f4f5404e4c30",
   "metadata": {
    "tags": []
   },
   "outputs": [],
   "source": [
    "list(df_core.columns)"
   ]
  },
  {
   "cell_type": "markdown",
   "id": "acc66310-1275-4461-a565-e7cc57358b5a",
   "metadata": {},
   "source": [
    "## DF_CORE TARGET COLUMN ISOLATION, PREPROCESS"
   ]
  },
  {
   "cell_type": "code",
   "execution_count": null,
   "id": "d41d279a-febd-43c3-a80f-ce99f88a8d30",
   "metadata": {},
   "outputs": [],
   "source": [
    "state_abr_list = ['AL','AK','AS','AZ','AR','CA','CO','CT','DE','DC','FM','FL','GA','GU','HI','ID','IL','IN','IA','KS','KY','LA','ME','MH','MD','MA','MI','MN','MS','MO','MT','NE','NV','NH','NJ','NM','NY','NC'\n",
    ",'ND','MP','OH','OK','OR','PW','PA','PR','RI','SC','SD','TN','TX','UT','VT','VI','VA','WA','WV','WI','WY','L48']"
   ]
  },
  {
   "cell_type": "code",
   "execution_count": null,
   "id": "a19abf9e-c261-408c-8e58-c5dc26112da7",
   "metadata": {},
   "outputs": [],
   "source": [
    "# create column for each state in state_abr_list\n",
    "for x in state_abr_list:\n",
    "    df_core[x]=0"
   ]
  },
  {
   "cell_type": "code",
   "execution_count": null,
   "id": "7ba8a1ff-48a0-44ea-9111-28c436fa44ff",
   "metadata": {},
   "outputs": [],
   "source": [
    "def state_col(string):\n",
    "    for x in state_abr_list:\n",
    "        if string.find(x) != -1:\n",
    "            return True\n",
    "        else:\n",
    "            return False"
   ]
  },
  {
   "cell_type": "code",
   "execution_count": null,
   "id": "9d2cc716-90a8-4664-91b6-865749979607",
   "metadata": {},
   "outputs": [],
   "source": [
    "# # for loop through State_and_Province to create column of boolean for each item in state_abr_list\n",
    "# for item in state_abr_list:\n",
    "# #     for y in df_core['State_and_Province']:\n",
    "#     for df_core:\n",
    "#         if df_core['State_and_Province'].apply(state_col) = True:\n",
    "#             df_core[y]\n",
    "# ERROR"
   ]
  },
  {
   "cell_type": "code",
   "execution_count": null,
   "id": "ea1cd6a1-39f6-4314-bc58-f9d0c98415b1",
   "metadata": {},
   "outputs": [],
   "source": [
    "def in_state(string, state):\n",
    "        if string.find(state) == -1:\n",
    "            return 0\n",
    "        else:\n",
    "            return 1"
   ]
  },
  {
   "cell_type": "code",
   "execution_count": null,
   "id": "67cabda7-1a37-43d6-bd9e-6fa8d886f5c9",
   "metadata": {},
   "outputs": [],
   "source": [
    "for state in state_abr_list:\n",
    "    df_core[state] = df_core['State_and_Province'].apply(lambda x: in_state(x, state))\n",
    "    if df_core[state].isna().sum() == 92171:\n",
    "        df_core[state].drop(column=[df_core[state]])"
   ]
  },
  {
   "cell_type": "code",
   "execution_count": null,
   "id": "5603af73-0716-4aca-9e74-39235076a7d2",
   "metadata": {},
   "outputs": [],
   "source": [
    "df_core"
   ]
  },
  {
   "cell_type": "code",
   "execution_count": null,
   "id": "ed8663a3-cd17-4f7e-abc0-ac3629290cbb",
   "metadata": {},
   "outputs": [],
   "source": [
    "df_core_state.head()"
   ]
  },
  {
   "cell_type": "code",
   "execution_count": null,
   "id": "b4b95a40-79d4-4eea-99f8-ab060260ab6f",
   "metadata": {},
   "outputs": [],
   "source": [
    "# create a new columns for each state with _Native string added\n",
    "# without + _Native, loop would create one column and overwrite itself for each loop\n",
    "for state in state_abr_list:\n",
    "    df_core_state[state + '_Native'] = df_core_state['Native_Status'].apply(lambda x: in_state(x, state))"
   ]
  },
  {
   "cell_type": "code",
   "execution_count": null,
   "id": "9e5bbc39-b794-47be-9124-ab31662e5ad2",
   "metadata": {},
   "outputs": [],
   "source": []
  },
  {
   "cell_type": "code",
   "execution_count": null,
   "id": "9ee54823-774f-4299-8e86-f0254a3750b9",
   "metadata": {},
   "outputs": [],
   "source": [
    "## for state in state_abr_list:\n",
    "## df_core_state[state + '_Native'] = df_core_state['Native_Status'].apply(lambda x: in_state(x, state))\n",
    "\n",
    "\n",
    "## for state in state_abr_list:\n",
    "##    df_core[state] = df_core['State_and_Province'].apply(lambda x: in_state(x, state))\n",
    "        \n",
    "## rework code\n",
    "### make 2 empty lists outside for loop\n",
    "### list 1 = append new columns +Native names\n",
    "### list 2 = append new columsn from lambda loop\n",
    "### outside of for loop create new df by merging the two SAME SIZE lists\n",
    "### concate new df onto old data frame with axis = 1 so it appends to the side not underneath/above\n",
    "\n",
    "#### Native_names = []\n",
    "#### Lambda_products = []\n"
   ]
  },
  {
   "cell_type": "code",
   "execution_count": null,
   "id": "64683d2e-9674-49a6-85cb-528d6034e4a6",
   "metadata": {},
   "outputs": [],
   "source": []
  },
  {
   "cell_type": "code",
   "execution_count": null,
   "id": "d3e2076f-3786-49b7-b3a7-80a8a78b2f8e",
   "metadata": {},
   "outputs": [],
   "source": [
    "df_core_process = df_core_state.copy()"
   ]
  },
  {
   "cell_type": "code",
   "execution_count": null,
   "id": "24f0c99d-aafa-4d7b-9801-cb26aa6e36ab",
   "metadata": {},
   "outputs": [],
   "source": [
    "df_core_process"
   ]
  },
  {
   "cell_type": "code",
   "execution_count": null,
   "id": "933a1bee-de06-4d24-8036-d1c7dd465e5a",
   "metadata": {},
   "outputs": [],
   "source": [
    "column_process_list = list(df_core_process)"
   ]
  },
  {
   "cell_type": "code",
   "execution_count": null,
   "id": "aebb6d53-e585-4a72-acb2-3ca1682d7c8e",
   "metadata": {
    "tags": []
   },
   "outputs": [],
   "source": []
  },
  {
   "cell_type": "code",
   "execution_count": null,
   "id": "c50c4e7d-eefe-43ed-8b4c-17938295adf4",
   "metadata": {},
   "outputs": [],
   "source": [
    "for column in column_process_list:\n",
    "    print(df_core_process[column].describe())\n",
    "    print('----------')"
   ]
  },
  {
   "cell_type": "code",
   "execution_count": null,
   "id": "a594c510-9623-4ac0-a0fa-d69fefa95f1b",
   "metadata": {},
   "outputs": [],
   "source": [
    "core_process = df_core_process.drop(columns = ['AL_Native', 'L48','AS_Native','MA_Native',\n",
    "'AZ_Native','AR_Native','CO_Native','CT_Native','DE_Native','DC_Native','MN_Native',\n",
    "'FM_Native','FL_Native','GA_Native','GU_Native','ID_Native','IL_Native','IN_Native',\n",
    "'IA_Native','KS_Native','KY_Native','LA_Native','ME_Native','MH_Native','MD_Native',\n",
    "'MI_Native','MO_Native','MS_Native','WY_Native','WI_Native','WV_Native','VA_Native',\n",
    "'WA_Native','VT_Native','UT_Native','TX_Native','TN_Native','SD_Native','SC_Native',\n",
    "'RI_Native','PA_Native','PW_Native','OR_Native','OK_Native','OH_Native','MP_Native',\n",
    "'NC_Native','NY_Native','NM_Native','NJ_Native','NH_Native','NV_Native','NE_Native',\n",
    "'ND_Native','MT_Native'])"
   ]
  },
  {
   "cell_type": "code",
   "execution_count": null,
   "id": "33e91af1-8e5e-489a-bf61-74175958a940",
   "metadata": {},
   "outputs": [],
   "source": [
    "df_core_process"
   ]
  },
  {
   "cell_type": "code",
   "execution_count": null,
   "id": "35e27fae-46bf-47c8-a2f9-2c724e1a8bbf",
   "metadata": {},
   "outputs": [],
   "source": [
    "from sklearn.preprocessing import OneHotEncoder\n",
    "ohe = OneHotEncoder(sparse=False)"
   ]
  },
  {
   "cell_type": "code",
   "execution_count": null,
   "id": "4c4ec13d-2306-4cf2-b949-7121f8cf0a57",
   "metadata": {},
   "outputs": [],
   "source": [
    "list(df_core_process)"
   ]
  },
  {
   "cell_type": "code",
   "execution_count": null,
   "id": "aa7fa9f8-5f42-4014-849e-8e7181ff9ca5",
   "metadata": {},
   "outputs": [],
   "source": [
    "# df_core_process.unique()"
   ]
  },
  {
   "cell_type": "code",
   "execution_count": null,
   "id": "8d3c9582-5718-4cd7-b9b9-13801725330b",
   "metadata": {},
   "outputs": [],
   "source": [
    "df_core_process.dtypes"
   ]
  },
  {
   "cell_type": "code",
   "execution_count": null,
   "id": "708f59e1-e9d2-4ccc-811d-00c5393b3772",
   "metadata": {},
   "outputs": [],
   "source": [
    "list(df_core_process)"
   ]
  },
  {
   "cell_type": "code",
   "execution_count": null,
   "id": "cbc7363c-cd94-422b-8cb3-7bcac85b3792",
   "metadata": {},
   "outputs": [],
   "source": [
    "for column in column_process_list:\n",
    "    print(df_core_process[column].unique())\n",
    "    print('----------')"
   ]
  },
  {
   "cell_type": "markdown",
   "id": "ee5cd3d9-7a15-40ae-a1e4-3f6ab94c6202",
   "metadata": {},
   "source": [
    "## DF TARGET COLUMN ISOLATION"
   ]
  },
  {
   "cell_type": "code",
   "execution_count": null,
   "id": "61a522b0-64e7-45a7-bb45-217e88047a9c",
   "metadata": {},
   "outputs": [],
   "source": [
    "# # Drop the label to create the X data\n",
    "# X = df_core.drop('State_Noxious_Status', axis=1)\n",
    "# X"
   ]
  },
  {
   "cell_type": "code",
   "execution_count": null,
   "id": "43758f8a-a4cf-4507-9be8-30cb627a8909",
   "metadata": {},
   "outputs": [],
   "source": [
    "X = df_core_process.drop(['State_Noxious_Status','State_and_Province'],axis=1)"
   ]
  },
  {
   "cell_type": "code",
   "execution_count": null,
   "id": "250a4a6f-908c-48f6-bbc8-4fc54253fba6",
   "metadata": {},
   "outputs": [],
   "source": [
    "X"
   ]
  },
  {
   "cell_type": "code",
   "execution_count": null,
   "id": "13542d5a-1db1-47ad-bac1-ab925e7f7b76",
   "metadata": {},
   "outputs": [],
   "source": [
    "# One-hot encoding the entire dataframe\n",
    "# X_dummies = pd.get_dummies(X)\n",
    "# X_dummies\n",
    "# 92171 rows × 138303 columns"
   ]
  },
  {
   "cell_type": "code",
   "execution_count": null,
   "id": "778fd8d0-eb3f-4d2c-9795-7fcff02d9922",
   "metadata": {},
   "outputs": [],
   "source": [
    "# One-hot encoding the entire dataframe\n",
    "# X_dummies = pd.get_dummies(X)\n",
    "# print(X_dummies.columns)\n",
    "# X_dummies\n",
    "\n",
    "## PRODUCES 92171 rows × 149451 columns"
   ]
  },
  {
   "cell_type": "code",
   "execution_count": null,
   "id": "6c61fdb5-58db-4589-bdfe-1a14eec5a486",
   "metadata": {},
   "outputs": [],
   "source": [
    "# Converting output labels to 0 and 1\n",
    "# y_label = LabelEncoder().fit_transform(df_core_process['State_Noxious_Status'])\n",
    "# y_label\n"
   ]
  },
  {
   "cell_type": "code",
   "execution_count": null,
   "id": "567728d5-c4ed-489f-a342-b9c6c9fca170",
   "metadata": {},
   "outputs": [],
   "source": [
    "# X_train, X_test, y_train, y_test = train_test_split(X_dummies, y_label, random_state=99)"
   ]
  },
  {
   "cell_type": "code",
   "execution_count": null,
   "id": "98d40d6a-bafb-4489-bf01-761d97d84b6f",
   "metadata": {},
   "outputs": [],
   "source": [
    "# Scaling the X data by using StandardScaler()\n",
    "# scaler = StandardScaler()"
   ]
  },
  {
   "cell_type": "code",
   "execution_count": null,
   "id": "a6a29618-9bee-4ac3-9417-69494f5d01d5",
   "metadata": {},
   "outputs": [],
   "source": [
    "# X_train_scaled = scaler.fit(X_train)\n",
    "# X_train_scaled = scaler.transform(X_train)\n",
    "# X_train_scaled"
   ]
  },
  {
   "cell_type": "code",
   "execution_count": null,
   "id": "30783b56-5923-416d-9912-05d7b8c44f08",
   "metadata": {},
   "outputs": [],
   "source": [
    "# # Alternatively, scaling the data by using MinMaxScaler()\n",
    "# scaler = MinMaxScaler().fit(X_train)\n",
    "# X_train_scaled = scaler.transform(X_train)\n",
    "# X_train_scaled"
   ]
  },
  {
   "cell_type": "code",
   "execution_count": null,
   "id": "e1dc654f-6813-419e-b4de-fa1fa9c5ba02",
   "metadata": {},
   "outputs": [],
   "source": [
    "# Transforming the test dataset based on the fit from the training dataset\n",
    "# X_test_scaled = scaler.transform(X_test)\n",
    "# X_test_scaled\n"
   ]
  },
  {
   "cell_type": "markdown",
   "id": "3cf76c32-4b6a-4d2c-b812-1289cb232f3c",
   "metadata": {},
   "source": [
    "## Score Models"
   ]
  },
  {
   "cell_type": "code",
   "execution_count": null,
   "id": "e10084f3-bf64-498e-8fb0-c5922ce480d0",
   "metadata": {},
   "outputs": [],
   "source": [
    "# clf = RandomForestClassifier(random_state=99, n_estimators=500).fit(X_train, y_train)\n",
    "# print(f'Training Score: {clf.score(X_train, y_train)}')\n",
    "# print(f'Testing Score: {clf.score(X_test, y_test)}')"
   ]
  },
  {
   "cell_type": "code",
   "execution_count": null,
   "id": "f2a30d87-d753-4797-aadd-0809177af3d7",
   "metadata": {},
   "outputs": [],
   "source": []
  }
 ],
 "metadata": {
  "kernelspec": {
   "display_name": "Python 3.8.10 64-bit ('pythondata': conda)",
   "language": "python",
   "name": "python3810jvsc74a57bd026e1a0b21b15c6599720c0dcf6980bb4cd2e7bcd1c97af6c7222f42e9b7eda95"
  },
  "language_info": {
   "codemirror_mode": {
    "name": "ipython",
    "version": 3
   },
   "file_extension": ".py",
   "mimetype": "text/x-python",
   "name": "python",
   "nbconvert_exporter": "python",
   "pygments_lexer": "ipython3",
   "version": "3.8.10"
  }
 },
 "nbformat": 4,
 "nbformat_minor": 5
}

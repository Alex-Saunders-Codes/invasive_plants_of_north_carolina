{
 "cells": [
  {
   "cell_type": "code",
   "execution_count": 1,
   "id": "23402a7c-03fd-4e4f-b8ea-5745650fc9c9",
   "metadata": {},
   "outputs": [],
   "source": [
    "import pandas as pd"
   ]
  },
  {
   "cell_type": "code",
   "execution_count": 2,
   "id": "c3ba3bc8-163b-4ae0-ad8a-5b4206df7e9c",
   "metadata": {},
   "outputs": [
    {
     "ename": "SyntaxError",
     "evalue": "invalid syntax (3635116475.py, line 1)",
     "output_type": "error",
     "traceback": [
      "\u001b[0;36m  File \u001b[0;32m\"/var/folders/jt/htnz6b452ks12pjjn44v6mvc0000gn/T/ipykernel_2359/3635116475.py\"\u001b[0;36m, line \u001b[0;32m1\u001b[0m\n\u001b[0;31m    df = pd.read_csv(https://raw.githubusercontent.com/Alex-Saunders-Codes/invasive_plants_of_north_carolina/960b2f3869103c5887028ae8a4a1be7ece44edfe/.ipynb_checkpoints/PLANTS_ML-checkpoint.ipynb)\u001b[0m\n\u001b[0m                          ^\u001b[0m\n\u001b[0;31mSyntaxError\u001b[0m\u001b[0;31m:\u001b[0m invalid syntax\n"
     ]
    }
   ],
   "source": [
    "df = pd.read_csv(https://raw.githubusercontent.com/Alex-Saunders-Codes/invasive_plants_of_north_carolina/960b2f3869103c5887028ae8a4a1be7ece44edfe/.ipynb_checkpoints/PLANTS_ML-checkpoint.ipynb)"
   ]
  },
  {
   "cell_type": "code",
   "execution_count": 3,
   "id": "144517be-1295-4696-a251-8c09bdefa016",
   "metadata": {},
   "outputs": [
    {
     "ename": "NameError",
     "evalue": "name 'df' is not defined",
     "output_type": "error",
     "traceback": [
      "\u001b[0;31m---------------------------------------------------------------------------\u001b[0m",
      "\u001b[0;31mNameError\u001b[0m                                 Traceback (most recent call last)",
      "\u001b[0;32m/var/folders/jt/htnz6b452ks12pjjn44v6mvc0000gn/T/ipykernel_2359/1396537375.py\u001b[0m in \u001b[0;36m<module>\u001b[0;34m\u001b[0m\n\u001b[0;32m----> 1\u001b[0;31m \u001b[0mdf\u001b[0m\u001b[0;34m\u001b[0m\u001b[0;34m\u001b[0m\u001b[0m\n\u001b[0m",
      "\u001b[0;31mNameError\u001b[0m: name 'df' is not defined"
     ]
    }
   ],
   "source": []
  },
  {
   "cell_type": "code",
   "execution_count": null,
   "id": "4f8e08ed-7850-4d49-8aab-36d3aeb06626",
   "metadata": {},
   "outputs": [],
   "source": [
    "https://zoom.us/j/2643492395?pwd=YmpPeEtjd0R4aUxYNzkvM05PQjVxdz09"
   ]
  }
 ],
 "metadata": {
  "kernelspec": {
   "display_name": "Python 3.8.10 64-bit ('pythondata': conda)",
   "language": "python",
   "name": "python3810jvsc74a57bd026e1a0b21b15c6599720c0dcf6980bb4cd2e7bcd1c97af6c7222f42e9b7eda95"
  },
  "language_info": {
   "codemirror_mode": {
    "name": "ipython",
    "version": 3
   },
   "file_extension": ".py",
   "mimetype": "text/x-python",
   "name": "python",
   "nbconvert_exporter": "python",
   "pygments_lexer": "ipython3",
   "version": "3.8.10"
  }
 },
 "nbformat": 4,
 "nbformat_minor": 5
}

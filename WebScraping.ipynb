{
 "cells": [
  {
   "cell_type": "code",
   "execution_count": 1,
   "id": "533fdc2c",
   "metadata": {},
   "outputs": [],
   "source": [
    "# Dependencies\r\n",
    "from bs4 import BeautifulSoup\r\n",
    "import requests\r\n",
    "import pandas as pd"
   ]
  },
  {
   "cell_type": "code",
   "execution_count": 2,
   "id": "d76a6121",
   "metadata": {},
   "outputs": [],
   "source": [
    "# Initialize PyMongo to work with MongoDBs\r\n",
    "conn = 'mongodb://localhost:27017'\r\n",
    "client = pymongo.MongoClient(conn\n",
    ")\r\n",
    "# Define database and collection\r\n",
    "db = client.invasive_db\r\n",
    "collection = db.items"
   ]
  },
  {
   "cell_type": "code",
   "execution_count": 19,
   "id": "0e3e591f",
   "metadata": {},
   "outputs": [
    {
     "data": {
      "text/html": [
       "<div>\n",
       "<style scoped>\n",
       "    .dataframe tbody tr th:only-of-type {\n",
       "        vertical-align: middle;\n",
       "    }\n",
       "\n",
       "    .dataframe tbody tr th {\n",
       "        vertical-align: top;\n",
       "    }\n",
       "\n",
       "    .dataframe thead th {\n",
       "        text-align: right;\n",
       "    }\n",
       "</style>\n",
       "<table border=\"1\" class=\"dataframe\">\n",
       "  <thead>\n",
       "    <tr style=\"text-align: right;\">\n",
       "      <th></th>\n",
       "      <th>Unnamed: 0</th>\n",
       "      <th>Preferred scientific name</th>\n",
       "      <th>International common name</th>\n",
       "      <th>ISC content</th>\n",
       "      <th>Plant pest</th>\n",
       "      <th>Taxonomic group</th>\n",
       "      <th>Domain</th>\n",
       "      <th>Kingdon</th>\n",
       "      <th>Phylum</th>\n",
       "      <th>Class</th>\n",
       "      <th>Order</th>\n",
       "      <th>Family</th>\n",
       "      <th>Datasheet URL</th>\n",
       "    </tr>\n",
       "  </thead>\n",
       "  <tbody>\n",
       "    <tr>\n",
       "      <th>0</th>\n",
       "      <td>0</td>\n",
       "      <td>Caulerpa taxifolia</td>\n",
       "      <td>killer algae</td>\n",
       "      <td>Full</td>\n",
       "      <td>No</td>\n",
       "      <td>Plants</td>\n",
       "      <td>Eukaryota</td>\n",
       "      <td>Plantae</td>\n",
       "      <td>Chlorophyta</td>\n",
       "      <td>Bryopsidophyceae</td>\n",
       "      <td>Bryopsidales</td>\n",
       "      <td>Caulerpaceae</td>\n",
       "      <td>https://www.cabi.org/isc/datasheet/29292</td>\n",
       "    </tr>\n",
       "    <tr>\n",
       "      <th>1</th>\n",
       "      <td>1</td>\n",
       "      <td>Codium fragile subsp. tomentosoides</td>\n",
       "      <td></td>\n",
       "      <td>Full</td>\n",
       "      <td>No</td>\n",
       "      <td>Plants</td>\n",
       "      <td>Eukaryota</td>\n",
       "      <td>Plantae</td>\n",
       "      <td>Chlorophyta</td>\n",
       "      <td>Bryopsidophyceae</td>\n",
       "      <td>Bryopsidales</td>\n",
       "      <td>Codiaceae</td>\n",
       "      <td>https://www.cabi.org/isc/datasheet/107769</td>\n",
       "    </tr>\n",
       "    <tr>\n",
       "      <th>2</th>\n",
       "      <td>2</td>\n",
       "      <td>Ulva ohnoi</td>\n",
       "      <td></td>\n",
       "      <td>Full</td>\n",
       "      <td>No</td>\n",
       "      <td>Plants</td>\n",
       "      <td>Eukaryota</td>\n",
       "      <td>Plantae</td>\n",
       "      <td>Chlorophyta</td>\n",
       "      <td>Chlorophyceae</td>\n",
       "      <td>Ulvales</td>\n",
       "      <td>Ulvaceae</td>\n",
       "      <td>https://www.cabi.org/isc/datasheet/109162</td>\n",
       "    </tr>\n",
       "    <tr>\n",
       "      <th>3</th>\n",
       "      <td>3</td>\n",
       "      <td>Ulva pertusa</td>\n",
       "      <td></td>\n",
       "      <td>Full</td>\n",
       "      <td>No</td>\n",
       "      <td>Plants</td>\n",
       "      <td>Eukaryota</td>\n",
       "      <td>Plantae</td>\n",
       "      <td>Chlorophyta</td>\n",
       "      <td>Chlorophyceae</td>\n",
       "      <td>Ulvales</td>\n",
       "      <td>Ulvaceae</td>\n",
       "      <td>https://www.cabi.org/isc/datasheet/108335</td>\n",
       "    </tr>\n",
       "    <tr>\n",
       "      <th>4</th>\n",
       "      <td>4</td>\n",
       "      <td>Ulva reticulata</td>\n",
       "      <td>ribbon sea lettuce</td>\n",
       "      <td>Full</td>\n",
       "      <td>No</td>\n",
       "      <td>Plants</td>\n",
       "      <td>Eukaryota</td>\n",
       "      <td>Plantae</td>\n",
       "      <td>Chlorophyta</td>\n",
       "      <td>Chlorophyceae</td>\n",
       "      <td>Ulvales</td>\n",
       "      <td>Ulvaceae</td>\n",
       "      <td>https://www.cabi.org/isc/datasheet/117717</td>\n",
       "    </tr>\n",
       "  </tbody>\n",
       "</table>\n",
       "</div>"
      ],
      "text/plain": [
       "   Unnamed: 0            Preferred scientific name  International common name  \\\n",
       "0           0                   Caulerpa taxifolia               killer algae   \n",
       "1           1  Codium fragile subsp. tomentosoides                              \n",
       "2           2                           Ulva ohnoi                              \n",
       "3           3                         Ulva pertusa                              \n",
       "4           4                      Ulva reticulata         ribbon sea lettuce   \n",
       "\n",
       "   ISC content  Plant pest  Taxonomic group      Domain   Kingdon  \\\n",
       "0         Full          No           Plants   Eukaryota   Plantae   \n",
       "1         Full          No           Plants   Eukaryota   Plantae   \n",
       "2         Full          No           Plants   Eukaryota   Plantae   \n",
       "3         Full          No           Plants   Eukaryota   Plantae   \n",
       "4         Full          No           Plants   Eukaryota   Plantae   \n",
       "\n",
       "         Phylum              Class          Order         Family  \\\n",
       "0   Chlorophyta   Bryopsidophyceae   Bryopsidales   Caulerpaceae   \n",
       "1   Chlorophyta   Bryopsidophyceae   Bryopsidales      Codiaceae   \n",
       "2   Chlorophyta      Chlorophyceae        Ulvales       Ulvaceae   \n",
       "3   Chlorophyta      Chlorophyceae        Ulvales       Ulvaceae   \n",
       "4   Chlorophyta      Chlorophyceae        Ulvales       Ulvaceae   \n",
       "\n",
       "                                Datasheet URL  \n",
       "0    https://www.cabi.org/isc/datasheet/29292  \n",
       "1   https://www.cabi.org/isc/datasheet/107769  \n",
       "2   https://www.cabi.org/isc/datasheet/109162  \n",
       "3   https://www.cabi.org/isc/datasheet/108335  \n",
       "4   https://www.cabi.org/isc/datasheet/117717  "
      ]
     },
     "execution_count": 19,
     "metadata": {},
     "output_type": "execute_result"
    }
   ],
   "source": [
    "invasive_df = pd.read_csv('Invasives/north_carolina_composites.csv')\r\n",
    "invasive_df.head()"
   ]
  },
  {
   "cell_type": "code",
   "execution_count": 20,
   "id": "2130cfb7",
   "metadata": {},
   "outputs": [
    {
     "data": {
      "text/plain": [
       "1016"
      ]
     },
     "execution_count": 20,
     "metadata": {},
     "output_type": "execute_result"
    }
   ],
   "source": [
    "len(invasive_df)"
   ]
  },
  {
   "cell_type": "code",
   "execution_count": 21,
   "id": "8b100340",
   "metadata": {},
   "outputs": [],
   "source": [
    "def get_distribution(url):\r\n",
    "    response = requests.get(url)\r\n",
    "    soup = BeautifulSoup(response.text, 'lxml')\r\n",
    "    results = soup.find('table', class_='distribution')\r\n",
    "    return results"
   ]
  },
  {
   "cell_type": "code",
   "execution_count": 22,
   "id": "00a9fb1c",
   "metadata": {},
   "outputs": [
    {
     "data": {
      "text/plain": [
       "Index(['Unnamed: 0', 'Preferred scientific name', ' International common name',\n",
       "       ' ISC content', ' Plant pest', ' Taxonomic group', ' Domain',\n",
       "       ' Kingdon', ' Phylum', ' Class', ' Order', ' Family', ' Datasheet URL'],\n",
       "      dtype='object')"
      ]
     },
     "execution_count": 22,
     "metadata": {},
     "output_type": "execute_result"
    }
   ],
   "source": [
    "invasive_df.columns"
   ]
  },
  {
   "cell_type": "code",
   "execution_count": 23,
   "id": "a19ae039",
   "metadata": {},
   "outputs": [],
   "source": [
    "url = invasive_df.iloc[0][' Datasheet URL'].strip()"
   ]
  },
  {
   "cell_type": "code",
   "execution_count": 24,
   "id": "4604986f",
   "metadata": {},
   "outputs": [],
   "source": [
    "distribution_table = str(get_distribution(url))"
   ]
  },
  {
   "cell_type": "code",
   "execution_count": 25,
   "id": "20a1c15c",
   "metadata": {
    "tags": []
   },
   "outputs": [
    {
     "data": {
      "text/plain": [
       "'<table class=\"distribution\">\\n<thead><tr>\\n<th>Continent/Country/Region</th>\\n<th>Distribution</th>\\n<th>Last Reported</th>\\n<th>Origin</th>\\n<th>First Reported</th>\\n<th>Invasive</th>\\n<th>Reference</th>\\n<th>Notes</th>\\n</tr></thead><tbody>\\n<tr>\\n<td colspan=\"8\"><h4>\\r\\n\\t\\t\\t\\t\\t\\tAfrica\\r\\n\\t\\t\\t\\t\\t</h4></td>\\n</tr><tr>\\n<td><a href=\"datasheet/108406\">Cabo Verde</a></td><td>Present</td><td></td><td>Native</td><td></td><td></td><td class=\"references-td\"><ul class=\"references-list event more\">\\n<li><a href=\"datasheet/29292#REF-DDB-110095\">Guiry and Guiry (2008)</a></li>\\n</ul></td><td></td>\\n</tr><tr>\\n<td><a href=\"datasheet/108394\">Côte d\\'Ivoire</a></td><td>Present</td><td></td><td>Native</td><td></td><td></td><td class=\"references-td\"><ul class=\"references-list event more\">\\n<li><a href=\"datasheet/29292#REF-DDB-110095\">Guiry and Guiry (2008)</a></li>\\n</ul></td><td></td>\\n</tr><tr>\\n<td><a href=\"datasheet/108442\">Equatorial Guinea</a></td><td>Present</td><td></td><td>Native</td><td></td><td></td><td class=\"references-td\"><ul class=\"references-list event more\">\\n<li><a href=\"datasheet/29292#REF-DDB-112252\">UNEP (2004)</a></li>\\n</ul></td><td>Gulf of Guinea</td>\\n</tr><tr>\\n<td><a href=\"datasheet/108430\">Gabon</a></td><td>Present</td><td></td><td>Native</td><td></td><td></td><td class=\"references-td\"><ul class=\"references-list event more\">\\n<li><a href=\"datasheet/29292#REF-DDB-110095\">Guiry and Guiry (2008)</a></li>\\n</ul></td><td></td>\\n</tr><tr>\\n<td><a href=\"datasheet/108439\">Gambia</a></td><td>Present</td><td></td><td>Native</td><td></td><td></td><td class=\"references-td\"><ul class=\"references-list event more\">\\n<li><a href=\"datasheet/29292#REF-DDB-110095\">Guiry and Guiry (2008)</a></li>\\n</ul></td><td></td>\\n</tr><tr>\\n<td><a href=\"datasheet/108436\">Ghana</a></td><td>Present</td><td></td><td>Native</td><td></td><td></td><td class=\"references-td\"><ul class=\"references-list event more\">\\n<li><a href=\"datasheet/29292#REF-DDB-110095\">Guiry and Guiry (2008)</a></li>\\n</ul></td><td></td>\\n</tr><tr>\\n<td><a href=\"datasheet/108470\">Kenya</a></td><td>Present</td><td></td><td>Native</td><td></td><td></td><td class=\"references-td\"><ul class=\"references-list event more\">\\n<li><a href=\"datasheet/29292#REF-DDB-110095\">Guiry and Guiry (2008)</a></li>\\n</ul></td><td></td>\\n</tr><tr>\\n<td><a href=\"datasheet/108498\">Madagascar</a></td><td>Present</td><td></td><td>Native</td><td></td><td></td><td class=\"references-td\"><ul class=\"references-list event more\">\\n<li><a href=\"datasheet/29292#REF-DDB-110095\">Guiry and Guiry (2008)</a></li>\\n</ul></td><td></td>\\n</tr><tr>\\n<td><a href=\"datasheet/108507\">Mauritania</a></td><td>Present</td><td></td><td>Native</td><td></td><td></td><td class=\"references-td\"><ul class=\"references-list event more\">\\n<li><a href=\"datasheet/29292#REF-DDB-110095\">Guiry and Guiry (2008)</a></li>\\n</ul></td><td></td>\\n</tr><tr>\\n<td><a href=\"datasheet/108510\">Mauritius</a></td><td>Present</td><td></td><td>Native</td><td></td><td></td><td class=\"references-td\"><ul class=\"references-list event more\">\\n<li><a href=\"datasheet/29292#REF-DDB-110095\">Guiry and Guiry (2008)</a></li>\\n</ul></td><td></td>\\n</tr><tr>\\n<td><a href=\"datasheet/108569\">São Tomé and Príncipe</a></td><td>Present</td><td></td><td>Native</td><td></td><td></td><td class=\"references-td\"><ul class=\"references-list event more\">\\n<li><a href=\"datasheet/29292#REF-DDB-110095\">Guiry and Guiry (2008)</a></li>\\n</ul></td><td></td>\\n</tr><tr>\\n<td><a href=\"datasheet/108564\">Senegal</a></td><td>Present</td><td></td><td>Native</td><td></td><td></td><td class=\"references-td\"><ul class=\"references-list event more\">\\n<li><a href=\"datasheet/29292#REF-DDB-110095\">Guiry and Guiry (2008)</a></li>\\n</ul></td><td></td>\\n</tr><tr>\\n<td><a href=\"datasheet/108554\">Seychelles</a></td><td>Present</td><td></td><td>Native</td><td></td><td></td><td class=\"references-td\"><ul class=\"references-list event more\">\\n<li><a href=\"datasheet/29292#REF-DDB-112252\">UNEP (2004)</a></li>\\n</ul></td><td></td>\\n</tr><tr>\\n<td><a href=\"datasheet/108591\">Tanzania</a></td><td>Present</td><td></td><td>Introduced</td><td></td><td></td><td class=\"references-td\"><ul class=\"references-list event more\">\\n<li><a href=\"datasheet/29292#REF-DDB-110095\">Guiry and Guiry (2008)</a></li>\\n</ul></td><td></td>\\n</tr><tr>\\n<td><a href=\"datasheet/108584\">Tunisia</a></td><td>Present</td><td></td><td>Introduced</td><td>2000</td><td></td><td class=\"references-td\"><ul class=\"references-list event more\">\\n<li><a href=\"datasheet/29292#REF-DDB-112250\">Meinesz et al. (2001)</a></li><li><a href=\"datasheet/29292#REF-DDB-110097\">FAO-DIAS (2008)</a></li>\\n</ul></td><td>Accidental introduction, introducer unknown</td>\\n</tr><tr>\\n<td colspan=\"8\"><h4>\\r\\n\\t\\t\\t\\t\\t\\tAsia\\r\\n\\t\\t\\t\\t\\t</h4></td>\\n</tr><tr>\\n<td><a href=\"datasheet/108369\">Bangladesh</a></td><td>Present</td><td></td><td>Native</td><td></td><td></td><td class=\"references-td\"><ul class=\"references-list event more\">\\n<li><a href=\"datasheet/29292#REF-DDB-110095\">Guiry and Guiry (2008)</a></li>\\n</ul></td><td></td>\\n</tr><tr>\\n<td><a href=\"datasheet/108398\">China</a></td><td>Present</td><td></td><td>Native</td><td></td><td></td><td class=\"references-td\"><ul class=\"references-list event more\">\\n<li><a href=\"datasheet/29292#REF-DDB-112252\">UNEP (2004)</a></li>\\n</ul></td><td>Southern China Sea</td>\\n</tr><tr>\\n<td><a href=\"datasheet/108459\">India</a></td><td>Present</td><td></td><td>Native</td><td></td><td></td><td class=\"references-td\"><ul class=\"references-list event more\">\\n<li><a href=\"datasheet/29292#REF-DDB-112252\">UNEP (2004)</a></li><li><a href=\"datasheet/29292#REF-DDB-110095\">Guiry and Guiry (2008)</a></li>\\n</ul></td><td>Northern Indian Ocean coast</td>\\n</tr><tr>\\n<td><a href=\"datasheet/108720\">-Andaman and Nicobar Islands</a></td><td>Present</td><td></td><td>Native</td><td></td><td></td><td class=\"references-td\"><ul class=\"references-list event more\">\\n<li><a href=\"datasheet/29292#REF-DDB-110095\">Guiry and Guiry (2008)</a></li>\\n</ul></td><td></td>\\n</tr><tr>\\n<td><a href=\"datasheet/108455\">Indonesia</a></td><td>Present</td><td></td><td>Native</td><td></td><td></td><td class=\"references-td\"><ul class=\"references-list event more\">\\n<li><a href=\"datasheet/29292#REF-DDB-110095\">Guiry and Guiry (2008)</a></li>\\n</ul></td><td></td>\\n</tr><tr>\\n<td><a href=\"datasheet/108467\">Japan</a></td><td>Present</td><td></td><td>Native</td><td></td><td></td><td class=\"references-td\"><ul class=\"references-list event more\">\\n<li><a href=\"datasheet/29292#REF-DDB-112252\">UNEP (2004)</a></li>\\n</ul></td><td></td>\\n</tr><tr>\\n<td><a href=\"datasheet/108514\">Malaysia</a></td><td>Present</td><td></td><td>Native</td><td></td><td></td><td class=\"references-td\"><ul class=\"references-list event more\">\\n<li><a href=\"datasheet/29292#REF-DDB-110095\">Guiry and Guiry (2008)</a></li>\\n</ul></td><td></td>\\n</tr><tr>\\n<td><a href=\"datasheet/108767\">-Sarawak</a></td><td>Present</td><td></td><td>Native</td><td></td><td></td><td class=\"references-td\"><ul class=\"references-list event more\">\\n<li><a href=\"datasheet/29292#REF-DDB-110095\">Guiry and Guiry (2008)</a></li>\\n</ul></td><td></td>\\n</tr><tr>\\n<td><a href=\"datasheet/108511\">Maldives</a></td><td>Present</td><td></td><td>Native</td><td></td><td></td><td class=\"references-td\"><ul class=\"references-list event more\">\\n<li><a href=\"datasheet/29292#REF-DDB-112252\">UNEP (2004)</a></li>\\n</ul></td><td></td>\\n</tr><tr>\\n<td><a href=\"datasheet/108537\">Pakistan</a></td><td>Present</td><td></td><td>Native</td><td></td><td></td><td class=\"references-td\"><ul class=\"references-list event more\">\\n<li><a href=\"datasheet/29292#REF-DDB-110095\">Guiry and Guiry (2008)</a></li>\\n</ul></td><td></td>\\n</tr><tr>\\n<td><a href=\"datasheet/108535\">Philippines</a></td><td>Present</td><td></td><td>Native</td><td></td><td></td><td class=\"references-td\"><ul class=\"references-list event more\">\\n<li><a href=\"datasheet/29292#REF-DDB-110095\">Guiry and Guiry (2008)</a></li>\\n</ul></td><td></td>\\n</tr><tr>\\n<td><a href=\"datasheet/108552\">Saudi Arabia</a></td><td>Present</td><td></td><td>Native</td><td></td><td></td><td class=\"references-td\"><ul class=\"references-list event more\">\\n<li><a href=\"datasheet/29292#REF-DDB-112252\">UNEP (2004)</a></li>\\n</ul></td><td></td>\\n</tr><tr>\\n<td><a href=\"datasheet/108557\">Singapore</a></td><td>Present</td><td></td><td>Native</td><td></td><td></td><td class=\"references-td\"><ul class=\"references-list event more\">\\n<li><a href=\"datasheet/29292#REF-DDB-110095\">Guiry and Guiry (2008)</a></li>\\n</ul></td><td></td>\\n</tr><tr>\\n<td><a href=\"datasheet/108485\">Sri Lanka</a></td><td>Present</td><td></td><td>Native</td><td></td><td></td><td class=\"references-td\"><ul class=\"references-list event more\">\\n<li><a href=\"datasheet/29292#REF-DDB-110095\">Guiry and Guiry (2008)</a></li>\\n</ul></td><td></td>\\n</tr><tr>\\n<td><a href=\"datasheet/108580\">Thailand</a></td><td>Present</td><td></td><td>Native</td><td></td><td></td><td class=\"references-td\"><ul class=\"references-list event more\">\\n<li><a href=\"datasheet/29292#REF-DDB-110095\">Guiry and Guiry (2008)</a></li>\\n</ul></td><td></td>\\n</tr><tr>\\n<td><a href=\"datasheet/108604\">Vietnam</a></td><td>Present</td><td></td><td>Native</td><td></td><td></td><td class=\"references-td\"><ul class=\"references-list event more\">\\n<li><a href=\"datasheet/29292#REF-DDB-110095\">Guiry and Guiry (2008)</a></li>\\n</ul></td><td></td>\\n</tr><tr>\\n<td><a href=\"datasheet/108609\">Yemen</a></td><td>Present</td><td></td><td>Native</td><td></td><td></td><td class=\"references-td\"><ul class=\"references-list event more\">\\n<li><a href=\"datasheet/29292#REF-DDB-110095\">Guiry and Guiry (2008)</a></li>\\n</ul></td><td></td>\\n</tr><tr>\\n<td colspan=\"8\"><h4>\\r\\n\\t\\t\\t\\t\\t\\tEurope\\r\\n\\t\\t\\t\\t\\t</h4></td>\\n</tr><tr>\\n<td><a href=\"datasheet/108452\">Croatia</a></td><td>Present</td><td></td><td>Introduced</td><td>1994</td><td>Invasive</td><td class=\"references-td\"><ul class=\"references-list event more\">\\n<li><a href=\"datasheet/29292#REF-DDB-112250\">Meinesz et al. (2001)</a></li><li><a href=\"datasheet/29292#REF-DDB-110097\">FAO-DIAS (2008)</a></li>\\n</ul></td><td>Introducer unknown, established in the wild</td>\\n</tr><tr>\\n<td><a href=\"datasheet/108429\">France</a></td><td>Present</td><td></td><td>Introduced</td><td>1989</td><td>Invasive</td><td class=\"references-td\"><ul class=\"references-list event more\">\\n<li><a href=\"datasheet/29292#REF-DDB-112250\">Meinesz et al. (2001)</a></li><li><a href=\"datasheet/29292#REF-DDB-112252\">UNEP (2004)</a></li><li><a href=\"datasheet/29292#REF-DDB-110097\">FAO-DIAS (2008)</a></li><li><a href=\"datasheet/29292#REF-DDB-110095\">Guiry and Guiry (2008)</a></li>\\n</ul></td><td>Accidental or natural introduction, established through natural reproduction and spread</td>\\n</tr><tr>\\n<td><a href=\"datasheet/108464\">Italy</a></td><td>Present</td><td></td><td>Introduced</td><td></td><td>Invasive</td><td class=\"references-td\"><ul class=\"references-list event more\">\\n<li><a href=\"datasheet/29292#REF-DDB-112250\">Meinesz et al. (2001)</a></li><li><a href=\"datasheet/29292#REF-DDB-110097\">FAO-DIAS (2008)</a></li><li><a href=\"datasheet/29292#REF-DDB-110095\">Guiry and Guiry (2008)</a></li>\\n</ul></td><td>Accidental introduction, established through natural reproduction; First reported: 1990s</td>\\n</tr><tr>\\n<td><a href=\"datasheet/108494\">Monaco</a></td><td>Present</td><td></td><td>Introduced</td><td>1984</td><td>Invasive</td><td class=\"references-td\"><ul class=\"references-list event more\">\\n<li><a href=\"datasheet/29292#REF-DDB-112250\">Meinesz et al. (2001)</a></li><li><a href=\"datasheet/29292#REF-DDB-112252\">UNEP (2004)</a></li>\\n</ul></td><td>Initial site of release in 1980s</td>\\n</tr><tr>\\n<td><a href=\"datasheet/108421\">Spain</a></td><td>Present</td><td></td><td>Introduced</td><td></td><td>Invasive</td><td class=\"references-td\"><ul class=\"references-list event more\">\\n<li><a href=\"datasheet/29292#REF-DDB-110097\">FAO-DIAS (2008)</a></li><li><a href=\"datasheet/29292#REF-DDB-110095\">Guiry and Guiry (2008)</a></li>\\n</ul></td><td>Accidental introduction, established through natural reproduction; First reported: 1990s</td>\\n</tr><tr>\\n<td><a href=\"datasheet/108701\">-Balearic Islands</a></td><td>Present</td><td></td><td>Introduced</td><td>1992</td><td>Invasive</td><td class=\"references-td\"><ul class=\"references-list event more\">\\n<li><a href=\"datasheet/29292#REF-DDB-112250\">Meinesz et al. (2001)</a></li><li><a href=\"datasheet/29292#REF-DDB-112252\">UNEP (2004)</a></li>\\n</ul></td><td>Mallorca - accidental introduction, established through natural reproduction</td>\\n</tr><tr>\\n<td><a href=\"datasheet/108702\">-Canary Islands</a></td><td>Present</td><td></td><td>Introduced</td><td></td><td></td><td class=\"references-td\"><ul class=\"references-list event more\">\\n<li><a href=\"datasheet/29292#REF-DDB-110095\">Guiry and Guiry (2008)</a></li>\\n</ul></td><td></td>\\n</tr><tr>\\n<td colspan=\"8\"><h4>\\r\\n\\t\\t\\t\\t\\t\\tNorth America\\r\\n\\t\\t\\t\\t\\t</h4></td>\\n</tr><tr>\\n<td><a href=\"datasheet/108368\">Barbados</a></td><td>Present</td><td></td><td>Native</td><td></td><td></td><td class=\"references-td\"><ul class=\"references-list event more\">\\n<li><a href=\"datasheet/29292#REF-DDB-110095\">Guiry and Guiry (2008)</a></li>\\n</ul></td><td></td>\\n</tr><tr>\\n<td><a href=\"datasheet/108387\">Belize</a></td><td>Present</td><td></td><td></td><td></td><td></td><td class=\"references-td\"><ul class=\"references-list event more\">\\n<li><a href=\"datasheet/29292#REF-DDB-110095\">Guiry and Guiry (2008)</a></li>\\n</ul></td><td></td>\\n</tr><tr>\\n<td><a href=\"datasheet/108377\">Bermuda</a></td><td>Present</td><td></td><td></td><td></td><td></td><td class=\"references-td\"><ul class=\"references-list event more\">\\n<li><a href=\"datasheet/29292#REF-DDB-110095\">Guiry and Guiry (2008)</a></li>\\n</ul></td><td></td>\\n</tr><tr>\\n<td><a href=\"datasheet/108405\">Cuba</a></td><td>Present</td><td></td><td>Native</td><td></td><td></td><td class=\"references-td\"><ul class=\"references-list event more\">\\n<li><a href=\"datasheet/29292#REF-DDB-110095\">Guiry and Guiry (2008)</a></li>\\n</ul></td><td></td>\\n</tr><tr>\\n<td><a href=\"datasheet/108465\">Jamaica</a></td><td>Present</td><td></td><td></td><td></td><td></td><td class=\"references-td\"><ul class=\"references-list event more\">\\n<li><a href=\"datasheet/29292#REF-DDB-110095\">Guiry and Guiry (2008)</a></li>\\n</ul></td><td></td>\\n</tr><tr>\\n<td><a href=\"datasheet/108513\">Mexico</a></td><td>Present</td><td></td><td></td><td></td><td></td><td class=\"references-td\"><ul class=\"references-list event more\">\\n<li><a href=\"datasheet/29292#REF-DDB-110095\">Guiry and Guiry (2008)</a></li>\\n</ul></td><td></td>\\n</tr><tr>\\n<td><a href=\"datasheet/108356\">Netherlands Antilles</a></td><td>Present</td><td></td><td></td><td></td><td></td><td class=\"references-td\"><ul class=\"references-list event more\">\\n<li><a href=\"datasheet/29292#REF-DDB-110095\">Guiry and Guiry (2008)</a></li>\\n</ul></td><td>and Lesser Antilles</td>\\n</tr><tr>\\n<td><a href=\"datasheet/108530\">Panama</a></td><td>Present</td><td></td><td></td><td></td><td></td><td class=\"references-td\"><ul class=\"references-list event more\">\\n<li><a href=\"datasheet/29292#REF-DDB-110095\">Guiry and Guiry (2008)</a></li>\\n</ul></td><td></td>\\n</tr><tr>\\n<td><a href=\"datasheet/108541\">Puerto Rico</a></td><td>Present</td><td></td><td>Native</td><td></td><td></td><td class=\"references-td\"><ul class=\"references-list event more\">\\n<li><a href=\"datasheet/29292#REF-DDB-110095\">Guiry and Guiry (2008)</a></li>\\n</ul></td><td></td>\\n</tr><tr>\\n<td><a href=\"datasheet/108588\">Trinidad and Tobago</a></td><td>Present</td><td></td><td>Native</td><td></td><td></td><td class=\"references-td\"><ul class=\"references-list event more\">\\n<li><a href=\"datasheet/29292#REF-DDB-110095\">Guiry and Guiry (2008)</a></li>\\n</ul></td><td></td>\\n</tr><tr>\\n<td><a href=\"datasheet/108603\">U.S. Virgin Islands</a></td><td>Present</td><td></td><td>Native</td><td></td><td></td><td class=\"references-td\"><ul class=\"references-list event more\">\\n<li><a href=\"datasheet/29292#REF-DDB-110095\">Guiry and Guiry (2008)</a></li>\\n</ul></td><td></td>\\n</tr><tr>\\n<td><a href=\"datasheet/108597\">United States</a></td><td>Present</td><td></td><td></td><td></td><td></td><td class=\"references-td\"><ul class=\"references-list event more\">\\n<li><a href=\"datasheet/29292#REF-DDB--26\">CABI (Undated a)</a></li>\\n</ul></td><td>Present based on regional distribution.</td>\\n</tr><tr>\\n<td><a href=\"datasheet/108799\">-California</a></td><td>Present</td><td></td><td>Introduced</td><td></td><td></td><td class=\"references-td\"><ul class=\"references-list event more\">\\n<li><a href=\"datasheet/29292#REF-DDB-112252\">UNEP (2004)</a></li>\\n</ul></td><td></td>\\n</tr><tr>\\n<td><a href=\"datasheet/108806\">-Hawaii</a></td><td>Present</td><td></td><td>Native</td><td></td><td></td><td class=\"references-td\"><ul class=\"references-list event more\">\\n<li><a href=\"datasheet/29292#REF-DDB-112252\">UNEP (2004)</a></li><li><a href=\"datasheet/29292#REF-DDB-110095\">Guiry and Guiry (2008)</a></li>\\n</ul></td><td></td>\\n</tr><tr>\\n<td colspan=\"8\"><h4>\\r\\n\\t\\t\\t\\t\\t\\tOceania\\r\\n\\t\\t\\t\\t\\t</h4></td>\\n</tr><tr>\\n<td><a href=\"datasheet/108360\">American Samoa</a></td><td>Present</td><td></td><td></td><td></td><td></td><td class=\"references-td\"><ul class=\"references-list event more\">\\n<li><a href=\"datasheet/29292#REF-DDB-110095\">Guiry and Guiry (2008)</a></li>\\n</ul></td><td></td>\\n</tr><tr>\\n<td><a href=\"datasheet/108362\">Australia</a></td><td>Present</td><td></td><td></td><td></td><td></td><td class=\"references-td\"><ul class=\"references-list event more\">\\n<li><a href=\"datasheet/29292#REF-DDB--26\">CABI (Undated a)</a></li>\\n</ul></td><td>Present based on regional distribution.</td>\\n</tr><tr>\\n<td><a href=\"datasheet/108618\">-Lord Howe Island</a></td><td>Present</td><td></td><td></td><td></td><td></td><td class=\"references-td\"><ul class=\"references-list event more\">\\n<li><a href=\"datasheet/29292#REF-DDB-110095\">Guiry and Guiry (2008)</a></li>\\n</ul></td><td></td>\\n</tr><tr>\\n<td><a href=\"datasheet/108620\">-New South Wales</a></td><td>Present, Widespread</td><td></td><td>Introduced</td><td>2000</td><td>Invasive</td><td class=\"references-td\"><ul class=\"references-list event more\">\\n<li><a href=\"datasheet/29292#REF-DDB--27\">CABI (Undated)</a></li>\\n</ul></td><td>Recorded from 13 estuaries or coastal lakes (as of March 2008). Illegal to sell but can be kept in enclosed aquaria.</td>\\n</tr><tr>\\n<td><a href=\"datasheet/108619\">-Northern Territory</a></td><td>Present</td><td></td><td>Native</td><td></td><td></td><td class=\"references-td\"><ul class=\"references-list event more\">\\n<li><a href=\"datasheet/29292#REF-DDB-99881\">Phillips and Price (2002)</a></li>\\n</ul></td><td></td>\\n</tr><tr>\\n<td><a href=\"datasheet/108621\">-Queensland</a></td><td>Present, Widespread</td><td></td><td>Native</td><td></td><td></td><td class=\"references-td\"><ul class=\"references-list event more\">\\n<li><a href=\"datasheet/29292#REF-DDB-99881\">Phillips and Price (2002)</a></li><li><a href=\"datasheet/29292#REF-DDB--27\">CABI (Undated)</a></li>\\n</ul></td><td>Evidence that there are invasive and non-invasive</td>\\n</tr><tr>\\n<td><a href=\"datasheet/108622\">-South Australia</a></td><td>Present, Localized</td><td></td><td>Introduced</td><td>2002</td><td>Invasive</td><td class=\"references-td\"><ul class=\"references-list event more\">\\n<li><a href=\"datasheet/29292#REF-DDB-115568\">Theil et al. (2007)</a></li>\\n</ul></td><td>West Lakes and Port River</td>\\n</tr><tr>\\n<td><a href=\"datasheet/108625\">-Western Australia</a></td><td>Present, Localized</td><td></td><td>Native</td><td></td><td></td><td class=\"references-td\"><ul class=\"references-list event more\">\\n<li><a href=\"datasheet/29292#REF-DDB-99881\">Phillips and Price (2002)</a></li>\\n</ul></td><td></td>\\n</tr><tr>\\n<td><a href=\"datasheet/108427\">Federated States of Micronesia</a></td><td>Present</td><td></td><td>Native</td><td></td><td></td><td class=\"references-td\"><ul class=\"references-list event more\">\\n<li><a href=\"datasheet/29292#REF-DDB-110095\">Guiry and Guiry (2008)</a></li>\\n</ul></td><td></td>\\n</tr><tr>\\n<td><a href=\"datasheet/108425\">Fiji</a></td><td>Present</td><td></td><td>Native</td><td></td><td></td><td class=\"references-td\"><ul class=\"references-list event more\">\\n<li><a href=\"datasheet/29292#REF-DDB-112252\">UNEP (2004)</a></li><li><a href=\"datasheet/29292#REF-DDB-110095\">Guiry and Guiry (2008)</a></li>\\n</ul></td><td></td>\\n</tr><tr>\\n<td><a href=\"datasheet/108533\">French Polynesia</a></td><td>Present</td><td></td><td>Native</td><td></td><td></td><td class=\"references-td\"><ul class=\"references-list event more\">\\n<li><a href=\"datasheet/29292#REF-DDB-110095\">Guiry and Guiry (2008)</a></li>\\n</ul></td><td></td>\\n</tr><tr>\\n<td><a href=\"datasheet/108517\">New Caledonia</a></td><td>Present</td><td></td><td>Native</td><td></td><td></td><td class=\"references-td\"><ul class=\"references-list event more\">\\n<li><a href=\"datasheet/29292#REF-DDB-112252\">UNEP (2004)</a></li>\\n</ul></td><td></td>\\n</tr><tr>\\n<td><a href=\"datasheet/108534\">Papua New Guinea</a></td><td>Present</td><td></td><td>Native</td><td></td><td></td><td class=\"references-td\"><ul class=\"references-list event more\">\\n<li><a href=\"datasheet/29292#REF-DDB-110095\">Guiry and Guiry (2008)</a></li>\\n</ul></td><td></td>\\n</tr><tr>\\n<td colspan=\"8\"><h4>\\r\\n\\t\\t\\t\\t\\t\\tSea Areas\\r\\n\\t\\t\\t\\t\\t</h4></td>\\n</tr><tr>\\n<td>Atlantic - Eastern Central</td><td>Present</td><td></td><td>Native</td><td></td><td></td><td class=\"references-td\"><ul class=\"references-list event more\">\\n<li><a href=\"datasheet/29292#REF-DDB-112252\">UNEP (2004)</a></li>\\n</ul></td><td></td>\\n</tr><tr>\\n<td>Atlantic - Western Central</td><td>Present</td><td></td><td>Native</td><td></td><td></td><td class=\"references-td\"><ul class=\"references-list event more\">\\n<li><a href=\"datasheet/29292#REF-DDB-112252\">UNEP (2004)</a></li>\\n</ul></td><td></td>\\n</tr><tr>\\n<td>Indian Ocean - Eastern</td><td>Present</td><td></td><td>Native</td><td></td><td></td><td class=\"references-td\"><ul class=\"references-list event more\">\\n<li><a href=\"datasheet/29292#REF-DDB-112252\">UNEP (2004)</a></li>\\n</ul></td><td></td>\\n</tr><tr>\\n<td>Indian Ocean - Western</td><td>Present</td><td></td><td>Native</td><td></td><td></td><td class=\"references-td\"><ul class=\"references-list event more\">\\n<li><a href=\"datasheet/29292#REF-DDB-112252\">UNEP (2004)</a></li>\\n</ul></td><td></td>\\n</tr><tr>\\n<td>Mediterranean and Black Sea</td><td>Present</td><td></td><td>Introduced</td><td>1984</td><td></td><td class=\"references-td\"><ul class=\"references-list event more\">\\n<li><a href=\"datasheet/29292#REF-DDB-112252\">UNEP (2004)</a></li>\\n</ul></td><td>accidental</td>\\n</tr><tr>\\n<td>Pacific - Eastern Central</td><td>Present</td><td></td><td>Introduced</td><td>2000</td><td></td><td class=\"references-td\"><ul class=\"references-list event more\">\\n<li><a href=\"datasheet/29292#REF-DDB-112252\">UNEP (2004)</a></li>\\n</ul></td><td>accidental</td>\\n</tr><tr>\\n<td>Pacific - Western Central</td><td>Present</td><td></td><td>Native</td><td></td><td></td><td class=\"references-td\"><ul class=\"references-list event more\">\\n<li><a href=\"datasheet/29292#REF-DDB-112252\">UNEP (2004)</a></li>\\n</ul></td><td></td>\\n</tr><tr>\\n<td colspan=\"8\"><h4>\\r\\n\\t\\t\\t\\t\\t\\tSouth America\\r\\n\\t\\t\\t\\t\\t</h4></td>\\n</tr><tr>\\n<td><a href=\"datasheet/108399\">Colombia</a></td><td>Present</td><td></td><td></td><td></td><td></td><td class=\"references-td\"><ul class=\"references-list event more\">\\n<li><a href=\"datasheet/29292#REF-DDB-110095\">Guiry and Guiry (2008)</a></li>\\n</ul></td><td></td>\\n</tr><tr>\\n<td><a href=\"datasheet/108601\">Venezuela</a></td><td>Present</td><td></td><td></td><td></td><td></td><td class=\"references-td\"><ul class=\"references-list event more\">\\n<li><a href=\"datasheet/29292#REF-DDB-110095\">Guiry and Guiry (2008)</a></li>\\n</ul></td><td></td>\\n</tr>\\n</tbody>\\n</table>'"
      ]
     },
     "execution_count": 25,
     "metadata": {},
     "output_type": "execute_result"
    }
   ],
   "source": [
    "distribution_table"
   ]
  },
  {
   "cell_type": "code",
   "execution_count": 26,
   "id": "c2045f65",
   "metadata": {},
   "outputs": [],
   "source": [
    "countries_df = pd.read_html(distribution_table)[0]"
   ]
  },
  {
   "cell_type": "code",
   "execution_count": 27,
   "id": "e0466786",
   "metadata": {},
   "outputs": [
    {
     "data": {
      "text/html": [
       "<div>\n",
       "<style scoped>\n",
       "    .dataframe tbody tr th:only-of-type {\n",
       "        vertical-align: middle;\n",
       "    }\n",
       "\n",
       "    .dataframe tbody tr th {\n",
       "        vertical-align: top;\n",
       "    }\n",
       "\n",
       "    .dataframe thead th {\n",
       "        text-align: right;\n",
       "    }\n",
       "</style>\n",
       "<table border=\"1\" class=\"dataframe\">\n",
       "  <thead>\n",
       "    <tr style=\"text-align: right;\">\n",
       "      <th></th>\n",
       "      <th>Continent/Country/Region</th>\n",
       "      <th>Distribution</th>\n",
       "      <th>Last Reported</th>\n",
       "      <th>Origin</th>\n",
       "      <th>First Reported</th>\n",
       "      <th>Invasive</th>\n",
       "      <th>Reference</th>\n",
       "      <th>Notes</th>\n",
       "    </tr>\n",
       "  </thead>\n",
       "  <tbody>\n",
       "    <tr>\n",
       "      <th>0</th>\n",
       "      <td>Africa</td>\n",
       "      <td>Africa</td>\n",
       "      <td>Africa</td>\n",
       "      <td>Africa</td>\n",
       "      <td>Africa</td>\n",
       "      <td>Africa</td>\n",
       "      <td>Africa</td>\n",
       "      <td>Africa</td>\n",
       "    </tr>\n",
       "    <tr>\n",
       "      <th>1</th>\n",
       "      <td>Cabo Verde</td>\n",
       "      <td>Present</td>\n",
       "      <td>NaN</td>\n",
       "      <td>Native</td>\n",
       "      <td>NaN</td>\n",
       "      <td>NaN</td>\n",
       "      <td>Guiry and Guiry (2008)</td>\n",
       "      <td>NaN</td>\n",
       "    </tr>\n",
       "    <tr>\n",
       "      <th>2</th>\n",
       "      <td>Côte d'Ivoire</td>\n",
       "      <td>Present</td>\n",
       "      <td>NaN</td>\n",
       "      <td>Native</td>\n",
       "      <td>NaN</td>\n",
       "      <td>NaN</td>\n",
       "      <td>Guiry and Guiry (2008)</td>\n",
       "      <td>NaN</td>\n",
       "    </tr>\n",
       "    <tr>\n",
       "      <th>3</th>\n",
       "      <td>Equatorial Guinea</td>\n",
       "      <td>Present</td>\n",
       "      <td>NaN</td>\n",
       "      <td>Native</td>\n",
       "      <td>NaN</td>\n",
       "      <td>NaN</td>\n",
       "      <td>UNEP (2004)</td>\n",
       "      <td>Gulf of Guinea</td>\n",
       "    </tr>\n",
       "    <tr>\n",
       "      <th>4</th>\n",
       "      <td>Gabon</td>\n",
       "      <td>Present</td>\n",
       "      <td>NaN</td>\n",
       "      <td>Native</td>\n",
       "      <td>NaN</td>\n",
       "      <td>NaN</td>\n",
       "      <td>Guiry and Guiry (2008)</td>\n",
       "      <td>NaN</td>\n",
       "    </tr>\n",
       "  </tbody>\n",
       "</table>\n",
       "</div>"
      ],
      "text/plain": [
       "  Continent/Country/Region Distribution Last Reported  Origin First Reported  \\\n",
       "0                   Africa       Africa        Africa  Africa         Africa   \n",
       "1               Cabo Verde      Present           NaN  Native            NaN   \n",
       "2            Côte d'Ivoire      Present           NaN  Native            NaN   \n",
       "3        Equatorial Guinea      Present           NaN  Native            NaN   \n",
       "4                    Gabon      Present           NaN  Native            NaN   \n",
       "\n",
       "  Invasive               Reference           Notes  \n",
       "0   Africa                  Africa          Africa  \n",
       "1      NaN  Guiry and Guiry (2008)             NaN  \n",
       "2      NaN  Guiry and Guiry (2008)             NaN  \n",
       "3      NaN             UNEP (2004)  Gulf of Guinea  \n",
       "4      NaN  Guiry and Guiry (2008)             NaN  "
      ]
     },
     "execution_count": 27,
     "metadata": {},
     "output_type": "execute_result"
    }
   ],
   "source": [
    "countries_df.head()"
   ]
  },
  {
   "cell_type": "code",
   "execution_count": 28,
   "id": "f83b99fd",
   "metadata": {},
   "outputs": [
    {
     "data": {
      "text/plain": [
       "Index(['Continent/Country/Region', 'Distribution', 'Last Reported', 'Origin',\n",
       "       'First Reported', 'Invasive', 'Reference', 'Notes'],\n",
       "      dtype='object')"
      ]
     },
     "execution_count": 28,
     "metadata": {},
     "output_type": "execute_result"
    }
   ],
   "source": [
    "countries_df.columns"
   ]
  },
  {
   "cell_type": "code",
   "execution_count": 29,
   "id": "c9af01e9",
   "metadata": {},
   "outputs": [
    {
     "data": {
      "text/plain": [
       "array(['Africa', 'Native', 'Native', 'Native', 'Native', 'Native',\n",
       "       'Native', 'Native', 'Native', 'Native', 'Native', 'Native',\n",
       "       'Native', 'Native', 'Introduced', 'Introduced', 'Asia', 'Native',\n",
       "       'Native', 'Native', 'Native', 'Native', 'Native', 'Native',\n",
       "       'Native', 'Native', 'Native', 'Native', 'Native', 'Native',\n",
       "       'Native', 'Native', 'Native', 'Native', 'Europe', 'Introduced',\n",
       "       'Introduced', 'Introduced', 'Introduced', 'Introduced',\n",
       "       'Introduced', 'Introduced', 'North America', 'Native', nan, nan,\n",
       "       'Native', nan, nan, nan, nan, 'Native', 'Native', 'Native', nan,\n",
       "       'Introduced', 'Native', 'Oceania', nan, nan, nan, 'Introduced',\n",
       "       'Native', 'Native', 'Introduced', 'Native', 'Native', 'Native',\n",
       "       'Native', 'Native', 'Native', 'Sea Areas', 'Native', 'Native',\n",
       "       'Native', 'Native', 'Introduced', 'Introduced', 'Native',\n",
       "       'South America', nan, nan], dtype=object)"
      ]
     },
     "execution_count": 29,
     "metadata": {},
     "output_type": "execute_result"
    }
   ],
   "source": [
    "countries_df[\"Origin\"].values"
   ]
  },
  {
   "cell_type": "code",
   "execution_count": 30,
   "id": "6d62feeb",
   "metadata": {},
   "outputs": [
    {
     "data": {
      "text/plain": [
       "array(['Africa', nan, nan, nan, nan, nan, nan, nan, nan, nan, nan, nan,\n",
       "       nan, nan, nan, nan, 'Asia', nan, nan, nan, nan, nan, nan, nan, nan,\n",
       "       nan, nan, nan, nan, nan, nan, nan, nan, nan, 'Europe', 'Invasive',\n",
       "       'Invasive', 'Invasive', 'Invasive', 'Invasive', 'Invasive', nan,\n",
       "       'North America', nan, nan, nan, nan, nan, nan, nan, nan, nan, nan,\n",
       "       nan, nan, nan, nan, 'Oceania', nan, nan, nan, 'Invasive', nan, nan,\n",
       "       'Invasive', nan, nan, nan, nan, nan, nan, 'Sea Areas', nan, nan,\n",
       "       nan, nan, nan, nan, nan, 'South America', nan, nan], dtype=object)"
      ]
     },
     "execution_count": 30,
     "metadata": {},
     "output_type": "execute_result"
    }
   ],
   "source": [
    "countries_df[\"Invasive\"].values"
   ]
  },
  {
   "cell_type": "code",
   "execution_count": 31,
   "id": "03242835",
   "metadata": {},
   "outputs": [
    {
     "data": {
      "text/plain": [
       "0                        Africa\n",
       "1                    Cabo Verde\n",
       "2                 Côte d'Ivoire\n",
       "3             Equatorial Guinea\n",
       "4                         Gabon\n",
       "                ...            \n",
       "77    Pacific - Eastern Central\n",
       "78    Pacific - Western Central\n",
       "79                South America\n",
       "80                     Colombia\n",
       "81                    Venezuela\n",
       "Name: Continent/Country/Region, Length: 82, dtype: object"
      ]
     },
     "execution_count": 31,
     "metadata": {},
     "output_type": "execute_result"
    }
   ],
   "source": [
    "countries_df['Continent/Country/Region']"
   ]
  },
  {
   "cell_type": "code",
   "execution_count": 32,
   "id": "6e3e8253",
   "metadata": {},
   "outputs": [],
   "source": [
    "countries_df.rename(columns={'Continent/Country/Region':'country'}, inplace=True)"
   ]
  },
  {
   "cell_type": "code",
   "execution_count": 33,
   "id": "a9fdb6d9",
   "metadata": {},
   "outputs": [
    {
     "data": {
      "text/plain": [
       "{'Unnamed: 0': 0,\n",
       " 'Preferred scientific name': 'Caulerpa taxifolia',\n",
       " ' International common name': ' killer algae',\n",
       " ' ISC content': ' Full',\n",
       " ' Plant pest': ' No',\n",
       " ' Taxonomic group': ' Plants',\n",
       " ' Domain': ' Eukaryota',\n",
       " ' Kingdon': ' Plantae',\n",
       " ' Phylum': ' Chlorophyta',\n",
       " ' Class': ' Bryopsidophyceae',\n",
       " ' Order': ' Bryopsidales',\n",
       " ' Family': ' Caulerpaceae',\n",
       " ' Datasheet URL': ' https://www.cabi.org/isc/datasheet/29292',\n",
       " 'native': ['Cabo Verde',\n",
       "  \"Côte d'Ivoire\",\n",
       "  'Equatorial Guinea',\n",
       "  'Gabon',\n",
       "  'Gambia',\n",
       "  'Ghana',\n",
       "  'Kenya',\n",
       "  'Madagascar',\n",
       "  'Mauritania',\n",
       "  'Mauritius',\n",
       "  'São Tomé and Príncipe',\n",
       "  'Senegal',\n",
       "  'Seychelles',\n",
       "  'Bangladesh',\n",
       "  'China',\n",
       "  'India',\n",
       "  '-Andaman and Nicobar Islands',\n",
       "  'Indonesia',\n",
       "  'Japan',\n",
       "  'Malaysia',\n",
       "  '-Sarawak',\n",
       "  'Maldives',\n",
       "  'Pakistan',\n",
       "  'Philippines',\n",
       "  'Saudi Arabia',\n",
       "  'Singapore',\n",
       "  'Sri Lanka',\n",
       "  'Thailand',\n",
       "  'Vietnam',\n",
       "  'Yemen',\n",
       "  'Barbados',\n",
       "  'Cuba',\n",
       "  'Puerto Rico',\n",
       "  'Trinidad and Tobago',\n",
       "  'U.S. Virgin Islands',\n",
       "  '-Hawaii',\n",
       "  '-Northern Territory',\n",
       "  'Federated States of Micronesia',\n",
       "  'Fiji',\n",
       "  'French Polynesia',\n",
       "  'New Caledonia',\n",
       "  'Papua New Guinea',\n",
       "  'Atlantic - Eastern Central',\n",
       "  'Atlantic - Western Central',\n",
       "  'Indian Ocean - Eastern',\n",
       "  'Indian Ocean - Western',\n",
       "  'Pacific - Western Central'],\n",
       " 'introduced': ['Tanzania',\n",
       "  'Tunisia',\n",
       "  'Croatia',\n",
       "  'France',\n",
       "  'Italy',\n",
       "  'Monaco',\n",
       "  'Spain',\n",
       "  '-Balearic Islands',\n",
       "  '-Canary Islands',\n",
       "  '-California',\n",
       "  'Mediterranean and Black Sea',\n",
       "  'Pacific - Eastern Central'],\n",
       " 'invasive': ['Croatia',\n",
       "  'France',\n",
       "  'Italy',\n",
       "  'Monaco',\n",
       "  'Spain',\n",
       "  '-Balearic Islands']}"
      ]
     },
     "execution_count": 33,
     "metadata": {},
     "output_type": "execute_result"
    }
   ],
   "source": [
    "native_countries = []\r\n",
    "introduced_countries = []\r\n",
    "invasive_countries = []\r\n",
    "last_reported = []\r\n",
    "first_reported = []\r\n",
    "for row in countries_df.itertuples():\r\n",
    "    if row.Distribution == \"Present\":\r\n",
    "        if row.Origin == \"Native\":\r\n",
    "            native_countries.append(row.country)\r\n",
    "        if row.Origin == \"Introduced\":\r\n",
    "            introduced_countries.append(row.country)\r\n",
    "        if row.Invasive == \"Invasive\":\r\n",
    "            invasive_countries.append(row.country)\r\n",
    "        species = invasive_df.iloc[0].to_dict()\r\n",
    "        species['native'] = native_countries\r\n",
    "        species['introduced'] = introduced_countries\r\n",
    "        species['invasive'] = invasive_countries\r\n",
    "\r\n",
    "species\r\n",
    "    "
   ]
  },
  {
   "cell_type": "code",
   "execution_count": 34,
   "id": "4512b5eb",
   "metadata": {},
   "outputs": [
    {
     "data": {
      "text/plain": [
       "{'Unnamed: 0': 0,\n",
       " 'Preferred scientific name': 'Caulerpa taxifolia',\n",
       " ' International common name': ' killer algae',\n",
       " ' ISC content': ' Full',\n",
       " ' Plant pest': ' No',\n",
       " ' Taxonomic group': ' Plants',\n",
       " ' Domain': ' Eukaryota',\n",
       " ' Kingdon': ' Plantae',\n",
       " ' Phylum': ' Chlorophyta',\n",
       " ' Class': ' Bryopsidophyceae',\n",
       " ' Order': ' Bryopsidales',\n",
       " ' Family': ' Caulerpaceae',\n",
       " ' Datasheet URL': ' https://www.cabi.org/isc/datasheet/29292',\n",
       " 'native': ['Cabo Verde',\n",
       "  \"Côte d'Ivoire\",\n",
       "  'Equatorial Guinea',\n",
       "  'Gabon',\n",
       "  'Gambia',\n",
       "  'Ghana',\n",
       "  'Kenya',\n",
       "  'Madagascar',\n",
       "  'Mauritania',\n",
       "  'Mauritius',\n",
       "  'São Tomé and Príncipe',\n",
       "  'Senegal',\n",
       "  'Seychelles',\n",
       "  'Bangladesh',\n",
       "  'China',\n",
       "  'India',\n",
       "  '-Andaman and Nicobar Islands',\n",
       "  'Indonesia',\n",
       "  'Japan',\n",
       "  'Malaysia',\n",
       "  '-Sarawak',\n",
       "  'Maldives',\n",
       "  'Pakistan',\n",
       "  'Philippines',\n",
       "  'Saudi Arabia',\n",
       "  'Singapore',\n",
       "  'Sri Lanka',\n",
       "  'Thailand',\n",
       "  'Vietnam',\n",
       "  'Yemen',\n",
       "  'Barbados',\n",
       "  'Cuba',\n",
       "  'Puerto Rico',\n",
       "  'Trinidad and Tobago',\n",
       "  'U.S. Virgin Islands',\n",
       "  '-Hawaii',\n",
       "  '-Northern Territory',\n",
       "  'Federated States of Micronesia',\n",
       "  'Fiji',\n",
       "  'French Polynesia',\n",
       "  'New Caledonia',\n",
       "  'Papua New Guinea',\n",
       "  'Atlantic - Eastern Central',\n",
       "  'Atlantic - Western Central',\n",
       "  'Indian Ocean - Eastern',\n",
       "  'Indian Ocean - Western',\n",
       "  'Pacific - Western Central'],\n",
       " 'introduced': ['Tanzania',\n",
       "  'Tunisia',\n",
       "  'Croatia',\n",
       "  'France',\n",
       "  'Italy',\n",
       "  'Monaco',\n",
       "  'Spain',\n",
       "  '-Balearic Islands',\n",
       "  '-Canary Islands',\n",
       "  '-California',\n",
       "  'Mediterranean and Black Sea',\n",
       "  'Pacific - Eastern Central'],\n",
       " 'invasive': ['Croatia',\n",
       "  'France',\n",
       "  'Italy',\n",
       "  'Monaco',\n",
       "  'Spain',\n",
       "  '-Balearic Islands']}"
      ]
     },
     "execution_count": 34,
     "metadata": {},
     "output_type": "execute_result"
    }
   ],
   "source": [
    "species"
   ]
  },
  {
   "cell_type": "markdown",
   "id": "77ac8eda",
   "metadata": {},
   "source": []
  },
  {
   "cell_type": "code",
   "execution_count": null,
   "id": "74ba8526",
   "metadata": {},
   "outputs": [],
   "source": []
  },
  {
   "cell_type": "code",
   "execution_count": null,
   "id": "a559f493",
   "metadata": {},
   "outputs": [],
   "source": []
  }
 ],
 "metadata": {
  "kernelspec": {
   "display_name": "Python 3 (ipykernel)",
   "language": "python",
   "name": "python3"
  },
  "language_info": {
   "codemirror_mode": {
    "name": "ipython",
    "version": 3
   },
   "file_extension": ".py",
   "mimetype": "text/x-python",
   "name": "python",
   "nbconvert_exporter": "python",
   "pygments_lexer": "ipython3",
   "version": "3.8.10"
  }
 },
 "nbformat": 4,
 "nbformat_minor": 5
}

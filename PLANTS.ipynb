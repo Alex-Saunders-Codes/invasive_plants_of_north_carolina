{
 "cells": [
  {
   "cell_type": "code",
   "execution_count": 1,
   "id": "02398b8d-be57-4614-a803-c0e46d4f66c3",
   "metadata": {},
   "outputs": [],
   "source": [
    "import pandas as pd\n",
    "import numpy as np\n",
    "import sqlite3\n",
    "from sqlalchemy import create_engine"
   ]
  },
  {
   "cell_type": "code",
   "execution_count": 2,
   "id": "fff4e33f-527b-4995-9cb7-ca79e3a27114",
   "metadata": {},
   "outputs": [
    {
     "name": "stdout",
     "output_type": "stream",
     "text": [
      "[('usda',)]\n"
     ]
    }
   ],
   "source": [
    "conn = sqlite3.connect('../usdaplantsapi/usdadb_new.sqlite3')\n",
    "cursor = conn.cursor()\n",
    "cursor.execute(\"SELECT name FROM sqlite_master WHERE type='table';\")\n",
    "print(cursor.fetchall())"
   ]
  },
  {
   "cell_type": "code",
   "execution_count": 3,
   "id": "00c9aa59-fbb9-4aca-a5b7-5b2581362db5",
   "metadata": {},
   "outputs": [],
   "source": [
    "c = conn.cursor()"
   ]
  },
  {
   "cell_type": "code",
   "execution_count": 4,
   "id": "6e3709bc-bd4d-4df3-b4bf-5b6468e5a594",
   "metadata": {},
   "outputs": [],
   "source": [
    "data = pd.read_sql(\"SELECT * FROM usda\", conn)"
   ]
  },
  {
   "cell_type": "code",
   "execution_count": 5,
   "id": "089a7ce8-bf33-4a65-b87c-6f3f76c2baff",
   "metadata": {},
   "outputs": [
    {
     "data": {
      "text/html": [
       "<div>\n",
       "<style scoped>\n",
       "    .dataframe tbody tr th:only-of-type {\n",
       "        vertical-align: middle;\n",
       "    }\n",
       "\n",
       "    .dataframe tbody tr th {\n",
       "        vertical-align: top;\n",
       "    }\n",
       "\n",
       "    .dataframe thead th {\n",
       "        text-align: right;\n",
       "    }\n",
       "</style>\n",
       "<table border=\"1\" class=\"dataframe\">\n",
       "  <thead>\n",
       "    <tr style=\"text-align: right;\">\n",
       "      <th></th>\n",
       "      <th>id</th>\n",
       "      <th>Symbol</th>\n",
       "      <th>Accepted_Symbol_x</th>\n",
       "      <th>Synonym_Symbol_x</th>\n",
       "      <th>Scientific_Name_x</th>\n",
       "      <th>Hybrid_Genus_Indicator</th>\n",
       "      <th>Hybrid_Species_Indicator</th>\n",
       "      <th>Species</th>\n",
       "      <th>Subspecies_Prefix</th>\n",
       "      <th>Hybrid_Subspecies_Indicator</th>\n",
       "      <th>...</th>\n",
       "      <th>Naval_Store_Product</th>\n",
       "      <th>Nursery_Stock_Product</th>\n",
       "      <th>Palatable_Browse_Animal</th>\n",
       "      <th>Palatable_Graze_Animal</th>\n",
       "      <th>Palatable_Human</th>\n",
       "      <th>Post_Product</th>\n",
       "      <th>Protein_Potential</th>\n",
       "      <th>Pulpwood_Product</th>\n",
       "      <th>Veneer_Product</th>\n",
       "      <th>Genus</th>\n",
       "    </tr>\n",
       "  </thead>\n",
       "  <tbody>\n",
       "    <tr>\n",
       "      <th>0</th>\n",
       "      <td>1</td>\n",
       "      <td>ABAB</td>\n",
       "      <td>ABAB</td>\n",
       "      <td></td>\n",
       "      <td>Abutilon abutiloides (Jacq.) Garcke ex Hochr.</td>\n",
       "      <td></td>\n",
       "      <td></td>\n",
       "      <td>abutiloides</td>\n",
       "      <td></td>\n",
       "      <td></td>\n",
       "      <td>...</td>\n",
       "      <td></td>\n",
       "      <td></td>\n",
       "      <td></td>\n",
       "      <td></td>\n",
       "      <td></td>\n",
       "      <td></td>\n",
       "      <td></td>\n",
       "      <td></td>\n",
       "      <td></td>\n",
       "      <td>Abutilon</td>\n",
       "    </tr>\n",
       "    <tr>\n",
       "      <th>1</th>\n",
       "      <td>2</td>\n",
       "      <td>ABAB2</td>\n",
       "      <td>ABPR3</td>\n",
       "      <td>ABAB2</td>\n",
       "      <td>Abrus abrus (L.) W. Wight, nom. inval.</td>\n",
       "      <td></td>\n",
       "      <td></td>\n",
       "      <td>abrus</td>\n",
       "      <td></td>\n",
       "      <td></td>\n",
       "      <td>...</td>\n",
       "      <td></td>\n",
       "      <td></td>\n",
       "      <td></td>\n",
       "      <td></td>\n",
       "      <td></td>\n",
       "      <td></td>\n",
       "      <td></td>\n",
       "      <td></td>\n",
       "      <td></td>\n",
       "      <td>Abrus</td>\n",
       "    </tr>\n",
       "    <tr>\n",
       "      <th>2</th>\n",
       "      <td>3</td>\n",
       "      <td>ABAB3</td>\n",
       "      <td>ABTH</td>\n",
       "      <td>ABAB3</td>\n",
       "      <td>Abutilon abutilon (L.) Rusby, nom. inval.</td>\n",
       "      <td></td>\n",
       "      <td></td>\n",
       "      <td>abutilon</td>\n",
       "      <td></td>\n",
       "      <td></td>\n",
       "      <td>...</td>\n",
       "      <td></td>\n",
       "      <td></td>\n",
       "      <td></td>\n",
       "      <td></td>\n",
       "      <td></td>\n",
       "      <td></td>\n",
       "      <td></td>\n",
       "      <td></td>\n",
       "      <td></td>\n",
       "      <td>Abutilon</td>\n",
       "    </tr>\n",
       "    <tr>\n",
       "      <th>3</th>\n",
       "      <td>4</td>\n",
       "      <td>ABAB70</td>\n",
       "      <td>ABAB70</td>\n",
       "      <td></td>\n",
       "      <td>Abietinella abietina (Hedw.) Fleisch.</td>\n",
       "      <td></td>\n",
       "      <td></td>\n",
       "      <td>abietina</td>\n",
       "      <td></td>\n",
       "      <td></td>\n",
       "      <td>...</td>\n",
       "      <td></td>\n",
       "      <td></td>\n",
       "      <td></td>\n",
       "      <td></td>\n",
       "      <td></td>\n",
       "      <td></td>\n",
       "      <td></td>\n",
       "      <td></td>\n",
       "      <td></td>\n",
       "      <td>Abietinella</td>\n",
       "    </tr>\n",
       "    <tr>\n",
       "      <th>4</th>\n",
       "      <td>5</td>\n",
       "      <td>ABAC</td>\n",
       "      <td>ABUMB</td>\n",
       "      <td>ABAC</td>\n",
       "      <td>Abronia acutalata Standl.</td>\n",
       "      <td></td>\n",
       "      <td></td>\n",
       "      <td>acutalata</td>\n",
       "      <td></td>\n",
       "      <td></td>\n",
       "      <td>...</td>\n",
       "      <td></td>\n",
       "      <td></td>\n",
       "      <td></td>\n",
       "      <td></td>\n",
       "      <td></td>\n",
       "      <td></td>\n",
       "      <td></td>\n",
       "      <td></td>\n",
       "      <td></td>\n",
       "      <td>Abronia</td>\n",
       "    </tr>\n",
       "    <tr>\n",
       "      <th>...</th>\n",
       "      <td>...</td>\n",
       "      <td>...</td>\n",
       "      <td>...</td>\n",
       "      <td>...</td>\n",
       "      <td>...</td>\n",
       "      <td>...</td>\n",
       "      <td>...</td>\n",
       "      <td>...</td>\n",
       "      <td>...</td>\n",
       "      <td>...</td>\n",
       "      <td>...</td>\n",
       "      <td>...</td>\n",
       "      <td>...</td>\n",
       "      <td>...</td>\n",
       "      <td>...</td>\n",
       "      <td>...</td>\n",
       "      <td>...</td>\n",
       "      <td>...</td>\n",
       "      <td>...</td>\n",
       "      <td>...</td>\n",
       "      <td>...</td>\n",
       "    </tr>\n",
       "    <tr>\n",
       "      <th>92166</th>\n",
       "      <td>92167</td>\n",
       "      <td>ZYVIR</td>\n",
       "      <td>ZYVIR</td>\n",
       "      <td></td>\n",
       "      <td>Zygodon viridissimus (Dicks.) Brid. var. rupes...</td>\n",
       "      <td></td>\n",
       "      <td></td>\n",
       "      <td>viridissimus</td>\n",
       "      <td></td>\n",
       "      <td></td>\n",
       "      <td>...</td>\n",
       "      <td></td>\n",
       "      <td></td>\n",
       "      <td></td>\n",
       "      <td></td>\n",
       "      <td></td>\n",
       "      <td></td>\n",
       "      <td></td>\n",
       "      <td></td>\n",
       "      <td></td>\n",
       "      <td>Zygodon</td>\n",
       "    </tr>\n",
       "    <tr>\n",
       "      <th>92167</th>\n",
       "      <td>92168</td>\n",
       "      <td>ZYVIR2</td>\n",
       "      <td>ZYVIR</td>\n",
       "      <td>ZYVIR2</td>\n",
       "      <td>Zygodon viridissimus (Dicks.) Brid. var. rufot...</td>\n",
       "      <td></td>\n",
       "      <td></td>\n",
       "      <td>viridissimus</td>\n",
       "      <td></td>\n",
       "      <td></td>\n",
       "      <td>...</td>\n",
       "      <td></td>\n",
       "      <td></td>\n",
       "      <td></td>\n",
       "      <td></td>\n",
       "      <td></td>\n",
       "      <td></td>\n",
       "      <td></td>\n",
       "      <td></td>\n",
       "      <td></td>\n",
       "      <td>Zygodon</td>\n",
       "    </tr>\n",
       "    <tr>\n",
       "      <th>92168</th>\n",
       "      <td>92169</td>\n",
       "      <td>ZYVIV</td>\n",
       "      <td>ZYVIV</td>\n",
       "      <td></td>\n",
       "      <td>Zygodon viridissimus (Dicks.) Brid. var. virid...</td>\n",
       "      <td></td>\n",
       "      <td></td>\n",
       "      <td>viridissimus</td>\n",
       "      <td></td>\n",
       "      <td></td>\n",
       "      <td>...</td>\n",
       "      <td></td>\n",
       "      <td></td>\n",
       "      <td></td>\n",
       "      <td></td>\n",
       "      <td></td>\n",
       "      <td></td>\n",
       "      <td></td>\n",
       "      <td></td>\n",
       "      <td></td>\n",
       "      <td>Zygodon</td>\n",
       "    </tr>\n",
       "    <tr>\n",
       "      <th>92169</th>\n",
       "      <td>92170</td>\n",
       "      <td>ZYVIV2</td>\n",
       "      <td>ZYVIR</td>\n",
       "      <td>ZYVIV2</td>\n",
       "      <td>Zygodon viridissimus (Dicks.) Brid. var. vulga...</td>\n",
       "      <td></td>\n",
       "      <td></td>\n",
       "      <td>viridissimus</td>\n",
       "      <td></td>\n",
       "      <td></td>\n",
       "      <td>...</td>\n",
       "      <td></td>\n",
       "      <td></td>\n",
       "      <td></td>\n",
       "      <td></td>\n",
       "      <td></td>\n",
       "      <td></td>\n",
       "      <td></td>\n",
       "      <td></td>\n",
       "      <td></td>\n",
       "      <td>Zygodon</td>\n",
       "    </tr>\n",
       "    <tr>\n",
       "      <th>92170</th>\n",
       "      <td>92171</td>\n",
       "      <td>ZYVU</td>\n",
       "      <td>ZYVIR</td>\n",
       "      <td>ZYVU</td>\n",
       "      <td>Zygodon vulgaris (Malta) Nyholm</td>\n",
       "      <td></td>\n",
       "      <td></td>\n",
       "      <td>vulgaris</td>\n",
       "      <td></td>\n",
       "      <td></td>\n",
       "      <td>...</td>\n",
       "      <td></td>\n",
       "      <td></td>\n",
       "      <td></td>\n",
       "      <td></td>\n",
       "      <td></td>\n",
       "      <td></td>\n",
       "      <td></td>\n",
       "      <td></td>\n",
       "      <td></td>\n",
       "      <td>Zygodon</td>\n",
       "    </tr>\n",
       "  </tbody>\n",
       "</table>\n",
       "<p>92171 rows × 134 columns</p>\n",
       "</div>"
      ],
      "text/plain": [
       "          id  Symbol Accepted_Symbol_x Synonym_Symbol_x  \\\n",
       "0          1    ABAB              ABAB                    \n",
       "1          2   ABAB2             ABPR3            ABAB2   \n",
       "2          3   ABAB3              ABTH            ABAB3   \n",
       "3          4  ABAB70            ABAB70                    \n",
       "4          5    ABAC             ABUMB             ABAC   \n",
       "...      ...     ...               ...              ...   \n",
       "92166  92167   ZYVIR             ZYVIR                    \n",
       "92167  92168  ZYVIR2             ZYVIR           ZYVIR2   \n",
       "92168  92169   ZYVIV             ZYVIV                    \n",
       "92169  92170  ZYVIV2             ZYVIR           ZYVIV2   \n",
       "92170  92171    ZYVU             ZYVIR             ZYVU   \n",
       "\n",
       "                                       Scientific_Name_x  \\\n",
       "0          Abutilon abutiloides (Jacq.) Garcke ex Hochr.   \n",
       "1                 Abrus abrus (L.) W. Wight, nom. inval.   \n",
       "2              Abutilon abutilon (L.) Rusby, nom. inval.   \n",
       "3                  Abietinella abietina (Hedw.) Fleisch.   \n",
       "4                              Abronia acutalata Standl.   \n",
       "...                                                  ...   \n",
       "92166  Zygodon viridissimus (Dicks.) Brid. var. rupes...   \n",
       "92167  Zygodon viridissimus (Dicks.) Brid. var. rufot...   \n",
       "92168  Zygodon viridissimus (Dicks.) Brid. var. virid...   \n",
       "92169  Zygodon viridissimus (Dicks.) Brid. var. vulga...   \n",
       "92170                    Zygodon vulgaris (Malta) Nyholm   \n",
       "\n",
       "      Hybrid_Genus_Indicator Hybrid_Species_Indicator       Species  \\\n",
       "0                                                       abutiloides   \n",
       "1                                                             abrus   \n",
       "2                                                          abutilon   \n",
       "3                                                          abietina   \n",
       "4                                                         acutalata   \n",
       "...                      ...                      ...           ...   \n",
       "92166                                                  viridissimus   \n",
       "92167                                                  viridissimus   \n",
       "92168                                                  viridissimus   \n",
       "92169                                                  viridissimus   \n",
       "92170                                                      vulgaris   \n",
       "\n",
       "      Subspecies_Prefix Hybrid_Subspecies_Indicator  ... Naval_Store_Product  \\\n",
       "0                                                    ...                       \n",
       "1                                                    ...                       \n",
       "2                                                    ...                       \n",
       "3                                                    ...                       \n",
       "4                                                    ...                       \n",
       "...                 ...                         ...  ...                 ...   \n",
       "92166                                                ...                       \n",
       "92167                                                ...                       \n",
       "92168                                                ...                       \n",
       "92169                                                ...                       \n",
       "92170                                                ...                       \n",
       "\n",
       "      Nursery_Stock_Product Palatable_Browse_Animal Palatable_Graze_Animal  \\\n",
       "0                                                                            \n",
       "1                                                                            \n",
       "2                                                                            \n",
       "3                                                                            \n",
       "4                                                                            \n",
       "...                     ...                     ...                    ...   \n",
       "92166                                                                        \n",
       "92167                                                                        \n",
       "92168                                                                        \n",
       "92169                                                                        \n",
       "92170                                                                        \n",
       "\n",
       "      Palatable_Human Post_Product Protein_Potential Pulpwood_Product  \\\n",
       "0                                                                       \n",
       "1                                                                       \n",
       "2                                                                       \n",
       "3                                                                       \n",
       "4                                                                       \n",
       "...               ...          ...               ...              ...   \n",
       "92166                                                                   \n",
       "92167                                                                   \n",
       "92168                                                                   \n",
       "92169                                                                   \n",
       "92170                                                                   \n",
       "\n",
       "      Veneer_Product        Genus  \n",
       "0                        Abutilon  \n",
       "1                           Abrus  \n",
       "2                        Abutilon  \n",
       "3                     Abietinella  \n",
       "4                         Abronia  \n",
       "...              ...          ...  \n",
       "92166                     Zygodon  \n",
       "92167                     Zygodon  \n",
       "92168                     Zygodon  \n",
       "92169                     Zygodon  \n",
       "92170                     Zygodon  \n",
       "\n",
       "[92171 rows x 134 columns]"
      ]
     },
     "execution_count": 5,
     "metadata": {},
     "output_type": "execute_result"
    }
   ],
   "source": [
    "data"
   ]
  },
  {
   "cell_type": "code",
   "execution_count": 6,
   "id": "2729cea1-1efb-4e7b-b299-6c80960268b7",
   "metadata": {},
   "outputs": [],
   "source": [
    "df = data.copy()"
   ]
  },
  {
   "cell_type": "code",
   "execution_count": 7,
   "id": "55d1e9c7-009d-4205-bd34-66a05041be08",
   "metadata": {},
   "outputs": [],
   "source": [
    "# get list of df columns\n",
    "# column_list = list(df)\n",
    "# column_list"
   ]
  },
  {
   "cell_type": "code",
   "execution_count": 8,
   "id": "eb2018de-fca1-43e3-905d-38267f73ebdc",
   "metadata": {},
   "outputs": [
    {
     "ename": "NameError",
     "evalue": "name 'column_list' is not defined",
     "output_type": "error",
     "traceback": [
      "\u001b[0;31m---------------------------------------------------------------------------\u001b[0m",
      "\u001b[0;31mNameError\u001b[0m                                 Traceback (most recent call last)",
      "\u001b[0;32m/var/folders/jt/htnz6b452ks12pjjn44v6mvc0000gn/T/ipykernel_47580/3744629984.py\u001b[0m in \u001b[0;36m<module>\u001b[0;34m\u001b[0m\n\u001b[0;32m----> 1\u001b[0;31m \u001b[0mlen\u001b[0m\u001b[0;34m(\u001b[0m\u001b[0mcolumn_list\u001b[0m\u001b[0;34m)\u001b[0m\u001b[0;34m\u001b[0m\u001b[0;34m\u001b[0m\u001b[0m\n\u001b[0m",
      "\u001b[0;31mNameError\u001b[0m: name 'column_list' is not defined"
     ]
    }
   ],
   "source": [
    "len(column_list)"
   ]
  },
  {
   "cell_type": "code",
   "execution_count": null,
   "id": "beadf73e-1433-4568-ae9f-845415ea98b4",
   "metadata": {},
   "outputs": [],
   "source": [
    "# find empty columns\n",
    "df_null_list = df.isnull().sum().head(100)\n",
    "print(df_null_list)"
   ]
  },
  {
   "cell_type": "code",
   "execution_count": null,
   "id": "f1d5727f-570d-4bd8-ad70-6da9414f4b43",
   "metadata": {},
   "outputs": [],
   "source": [
    "df.isnull().count().sort_values()"
   ]
  },
  {
   "cell_type": "code",
   "execution_count": null,
   "id": "affec193-d62f-4e2b-820d-b2a8b20e8231",
   "metadata": {},
   "outputs": [],
   "source": [
    "df_state_nox_list = df[\"State_Noxious_Status\"].isnull().sum()\n",
    "df_state_nox_list"
   ]
  },
  {
   "cell_type": "code",
   "execution_count": null,
   "id": "7f93064b-ddcf-4ccd-abd3-e92dff88e8c1",
   "metadata": {},
   "outputs": [],
   "source": [
    "def in_nc(string):\n",
    "        if string.find('NC') == -1:\n",
    "            return False\n",
    "        else:\n",
    "            return True"
   ]
  },
  {
   "cell_type": "code",
   "execution_count": null,
   "id": "4fb2dbb1-56ce-4c81-afe7-8e6338aa5949",
   "metadata": {},
   "outputs": [],
   "source": [
    "def in_l48(string):\n",
    "        if string.find('L48') == -1:\n",
    "            return False\n",
    "        else:\n",
    "            return True"
   ]
  },
  {
   "cell_type": "code",
   "execution_count": null,
   "id": "d5ddb8d6-c822-4d7e-8b66-c3f3e76a2490",
   "metadata": {
    "tags": []
   },
   "outputs": [],
   "source": []
  },
  {
   "cell_type": "code",
   "execution_count": null,
   "id": "6a4557b5-5ce0-4b80-b8a0-15f5b4c22423",
   "metadata": {
    "tags": []
   },
   "outputs": [],
   "source": [
    "# for column in column_list:\n",
    "#     print(df[column])\n",
    "#     print(df[column].isna().sum())\n",
    "#     print(df[column].describe())"
   ]
  },
  {
   "cell_type": "code",
   "execution_count": null,
   "id": "f61f5810-267d-451c-9ee9-4092141ea9b9",
   "metadata": {},
   "outputs": [],
   "source": [
    "# get\n",
    "print(df.State_Noxious_Status.value_counts())"
   ]
  },
  {
   "cell_type": "code",
   "execution_count": null,
   "id": "96064c16-22b7-4dec-a3d8-f17f86e47be4",
   "metadata": {},
   "outputs": [],
   "source": [
    "# get\n",
    "print(df.State_and_Province.describe())"
   ]
  },
  {
   "cell_type": "code",
   "execution_count": null,
   "id": "09277b70-05bc-4998-8156-85b670ce9e5f",
   "metadata": {},
   "outputs": [],
   "source": [
    "# get\n",
    "df.State_Noxious_Status.describe()"
   ]
  },
  {
   "cell_type": "code",
   "execution_count": null,
   "id": "8114fd69-10b8-4f06-acf8-384dc5c8cef3",
   "metadata": {},
   "outputs": [],
   "source": [
    "df.State_and_Province.describe()"
   ]
  },
  {
   "cell_type": "code",
   "execution_count": null,
   "id": "2fdfeb4c-6373-4480-bc0c-c9b805dfbbb4",
   "metadata": {},
   "outputs": [],
   "source": [
    "df.State_T_E_Status.value_counts()"
   ]
  },
  {
   "cell_type": "code",
   "execution_count": null,
   "id": "4db67ae1-d93b-4ac1-bf9c-3442dc501e42",
   "metadata": {},
   "outputs": [],
   "source": [
    "df['In_NC'] = df_native['State_and_Province'].apply(in_nc)"
   ]
  },
  {
   "cell_type": "code",
   "execution_count": null,
   "id": "e0b7f956-d9b2-4c20-b8fd-e851cc566ee1",
   "metadata": {},
   "outputs": [],
   "source": []
  },
  {
   "cell_type": "markdown",
   "id": "59f4d150-8994-41b0-b1e4-80f496009bd5",
   "metadata": {},
   "source": [
    "## SLIM DATASET"
   ]
  },
  {
   "cell_type": "code",
   "execution_count": null,
   "id": "e6a1d58c-7f44-40ce-a9f1-19ce73d181ec",
   "metadata": {},
   "outputs": [],
   "source": [
    "df_enriched = pd.DataFrame(df, columns = [\n",
    " 'Accepted_Symbol_x',\n",
    " 'Hybrid_Genus_Indicator',\n",
    " 'Hybrid_Species_Indicator',\n",
    " 'Genus',\n",
    " 'Species',\n",
    " 'Subspecies_Prefix',\n",
    " 'Variety',\n",
    " 'Subvariety_Prefix',\n",
    " 'Genera_Binomial_Author',\n",
    " 'Common_Name',\n",
    " 'State_and_Province',\n",
    " 'Category',\n",
    " 'Family_Symbol',\n",
    " 'Family_Common_Name',\n",
    " 'xOrder',\n",
    " 'SubClass',\n",
    " 'Class',\n",
    " 'Division',\n",
    " 'SuperDivision',\n",
    " 'SubKingdom',\n",
    " 'Kingdom',\n",
    " 'Duration',\n",
    " 'Growth_Habit',\n",
    " 'Native_Status',\n",
    " 'Federal_Noxious_Status',\n",
    " 'State_Noxious_Status',\n",
    " 'Invasive',\n",
    " 'Federal_T_E_Status',\n",
    " 'State_T_E_Status',\n",
    " 'Active_Growth_Period',\n",
    " 'After_Harvest_Regrowth_Rate',\n",
    " 'Bloat',\n",
    " 'C_N_Ratio',\n",
    " 'Coppice_Potential',\n",
    " 'Fall_Conspicuous',\n",
    " 'Fire_Resistance',\n",
    " 'Flower_Color',\n",
    " 'Flower_Conspicuous',\n",
    " 'Foliage_Color',\n",
    " 'Foliage_Porosity_Summer',\n",
    " 'Foliage_Porosity_Winter',\n",
    " 'Foliage_Texture',\n",
    " 'Fruit_Color',\n",
    " 'Fruit_Conspicuous',\n",
    " 'Growth_Form',\n",
    " 'Growth_Rate',\n",
    " 'Height_at_Base_Age_Maximum_feet',\n",
    " 'Height_Mature_feet',\n",
    " 'Known_Allelopath',\n",
    " 'Leaf_Retention',\n",
    " 'Lifespan',\n",
    " 'Low_Growing_Grass',\n",
    " 'Nitrogen_Fixation',\n",
    " 'Resprout_Ability',\n",
    " 'Shape_and_Orientation',\n",
    " 'Toxicity',\n",
    " 'Adapted_to_Coarse_Textured_Soils',\n",
    " 'Adapted_to_Medium_Textured_Soils',\n",
    " 'Adapted_to_Fine_Textured_Soils',\n",
    " 'Anaerobic_Tolerance',\n",
    " 'CaCO_3_Tolerance',\n",
    " 'Cold_Stratification_Required',\n",
    " 'Drought_Tolerance',\n",
    " 'Fertility_Requirement',\n",
    " 'Fire_Tolerance',\n",
    " 'Frost_Free_Days_Minimum',\n",
    " 'Hedge_Tolerance',\n",
    " 'Moisture_Use',\n",
    " 'pH_Minimum',\n",
    " 'pH_Maximum',\n",
    " 'Planting_Density_per_Acre_Minimum',\n",
    " 'Planting_Density_per_Acre_Maximum',\n",
    " 'Precipitation_Minimum',\n",
    " 'Precipitation_Maximum',\n",
    " 'Root_Depth_Minimum_inches',\n",
    " 'Salinity_Tolerance',\n",
    " 'Shade_Tolerance',\n",
    " 'Temperature_Minimum_F',\n",
    " 'Bloom_Period',\n",
    " 'Commercial_Availability',\n",
    " 'Fruit_Seed_Abundance',\n",
    " 'Fruit_Seed_Period_Begin',\n",
    " 'Fruit_Seed_Period_End',\n",
    " 'Fruit_Seed_Persistence',\n",
    " 'Propogated_by_Bare_Root',\n",
    " 'Propogated_by_Bulbs',\n",
    " 'Propogated_by_Container',\n",
    " 'Propogated_by_Corms',\n",
    " 'Propogated_by_Cuttings',\n",
    " 'Propogated_by_Seed',\n",
    " 'Propogated_by_Sod',\n",
    " 'Propogated_by_Sprigs',\n",
    " 'Propogated_by_Tubers',\n",
    " 'Seeds_per_Pound',\n",
    " 'Seed_Spread_Rate',\n",
    " 'Seedling_Vigor',\n",
    " 'Small_Grain',\n",
    " 'Vegetative_Spread_Rate',\n",
    " 'Berry_Nut_Seed_Product',\n",
    " 'Christmas_Tree_Product',\n",
    " 'Fodder_Product',\n",
    " 'Fuelwood_Product',\n",
    " 'Lumber_Product',\n",
    " 'Naval_Store_Product',\n",
    " 'Nursery_Stock_Product',\n",
    " 'Palatable_Browse_Animal',\n",
    " 'Palatable_Graze_Animal',\n",
    " 'Palatable_Human',\n",
    " 'Post_Product',\n",
    " 'Protein_Potential',\n",
    " 'Pulpwood_Product',\n",
    " 'Veneer_Product'\n",
    "])"
   ]
  },
  {
   "cell_type": "code",
   "execution_count": null,
   "id": "23304eba-3b7e-46ff-8724-c7c684cc0b51",
   "metadata": {},
   "outputs": [],
   "source": [
    "df_enriched.head()"
   ]
  },
  {
   "cell_type": "code",
   "execution_count": null,
   "id": "b3472757-59e0-44af-81f9-820051f20587",
   "metadata": {},
   "outputs": [],
   "source": [
    "df_enriched['Hybrid_Genus_Indicator'].value_counts()"
   ]
  },
  {
   "cell_type": "code",
   "execution_count": null,
   "id": "657b79da-b464-4f65-b21e-bd9c53ea350b",
   "metadata": {},
   "outputs": [],
   "source": [
    "df_enriched['Hybrid_Species_Indicator'].value_counts()"
   ]
  },
  {
   "cell_type": "code",
   "execution_count": null,
   "id": "f76c8b73-9a5f-4da1-8717-13279cfb0c88",
   "metadata": {},
   "outputs": [],
   "source": [
    "df_enriched['Subspecies_Prefix'].value_counts()"
   ]
  },
  {
   "cell_type": "code",
   "execution_count": null,
   "id": "eb18749c-6722-439a-92f8-9dfb5dcd8b91",
   "metadata": {},
   "outputs": [],
   "source": [
    "df_enriched['Common_Name'].value_counts()"
   ]
  },
  {
   "cell_type": "code",
   "execution_count": null,
   "id": "1fc1f8f4-25f4-4a6d-b6b2-bb36dd1d3ad7",
   "metadata": {},
   "outputs": [],
   "source": [
    "df_enriched['Common_Name'].isna().sum()\n",
    "df_enriched['Common_Name'].describe()"
   ]
  },
  {
   "cell_type": "code",
   "execution_count": null,
   "id": "71f1cc3e-2cbc-4e1e-b9e3-6c593d8bba88",
   "metadata": {},
   "outputs": [],
   "source": []
  },
  {
   "cell_type": "code",
   "execution_count": null,
   "id": "132adbe3-33ba-45c7-afaf-111af9185f5e",
   "metadata": {},
   "outputs": [],
   "source": [
    "df_enriched['State_and_Province'].value_counts()"
   ]
  },
  {
   "cell_type": "code",
   "execution_count": null,
   "id": "d287b5ed-21f4-4dc2-98db-42d9f9d49460",
   "metadata": {},
   "outputs": [],
   "source": [
    "df_enriched.isna().sum().sort_values()"
   ]
  },
  {
   "cell_type": "code",
   "execution_count": null,
   "id": "c44d519c-f741-4e5c-ab55-af7b6a1efe25",
   "metadata": {},
   "outputs": [],
   "source": [
    "df_enriched['Category'].value_counts()"
   ]
  },
  {
   "cell_type": "code",
   "execution_count": null,
   "id": "4480975a-0c65-48a8-a6b2-04f4beb1376c",
   "metadata": {},
   "outputs": [],
   "source": [
    "df_enriched['Category'].value_counts()"
   ]
  },
  {
   "cell_type": "code",
   "execution_count": null,
   "id": "740bedb8-6e2f-4e8e-8f0e-2875d0f3cb1d",
   "metadata": {},
   "outputs": [],
   "source": [
    "df_enriched['Category'].value_counts()"
   ]
  },
  {
   "cell_type": "code",
   "execution_count": null,
   "id": "ee2aea7b-c17c-4d48-bc36-396be85996a6",
   "metadata": {},
   "outputs": [],
   "source": [
    "df_core = pd.DataFrame(df, columns = [\n",
    " 'Accepted_Symbol_x',\n",
    " 'Hybrid_Genus_Indicator',\n",
    " 'Hybrid_Species_Indicator',\n",
    " 'Species',\n",
    " 'Subspecies_Prefix',\n",
    " 'Variety',\n",
    " 'Subvariety_Prefix',\n",
    " 'Genera_Binomial_Author',\n",
    " 'Common_Name',\n",
    " 'State_and_Province',\n",
    " 'Category',\n",
    " 'Family_Symbol',\n",
    " 'Family_Common_Name',\n",
    " 'xOrder',\n",
    " 'SubClass',\n",
    " 'Class',\n",
    " 'Division',\n",
    " 'SuperDivision',\n",
    " 'SubKingdom',\n",
    " 'Kingdom',\n",
    " 'Duration',\n",
    " 'Growth_Habit',\n",
    " 'Native_Status',\n",
    " 'Federal_Noxious_Status',\n",
    " 'State_Noxious_Status',\n",
    " 'Invasive',\n",
    " 'Federal_T_E_Status',\n",
    " 'State_T_E_Status',\n",
    " 'Genus'])"
   ]
  },
  {
   "cell_type": "code",
   "execution_count": null,
   "id": "7280a1b5-1bbb-43e3-a5ab-ba12bcdd4956",
   "metadata": {},
   "outputs": [],
   "source": [
    "df_core.head()"
   ]
  },
  {
   "cell_type": "markdown",
   "id": "4078f186-bec5-4bac-92b8-aa7b58f2a0b0",
   "metadata": {},
   "source": [
    "## DF_CORE TARGET COLUMN ISOLATION"
   ]
  },
  {
   "cell_type": "code",
   "execution_count": null,
   "id": "dee4b880-940a-470d-a304-5bbe4977ed63",
   "metadata": {},
   "outputs": [],
   "source": [
    "df_core['In_NC'] = df_core['State_and_Province'].apply(in_nc)\n",
    "df_core['Native_L48'] = df_core['Native_Status'].apply(in_l48)\n",
    "df_core['Native_NC'] = df_core['Native_Status'].apply(in_nc)"
   ]
  },
  {
   "cell_type": "code",
   "execution_count": null,
   "id": "4f9d58c5-9428-4dc5-b0d9-c902660e414a",
   "metadata": {},
   "outputs": [],
   "source": [
    "# Drop the label to create the X data\n",
    "X = df_core.drop('Invasive', axis=1)\n",
    "X\n"
   ]
  },
  {
   "cell_type": "code",
   "execution_count": null,
   "id": "0fda30fb-c3a3-4fc4-b67a-1693096af55a",
   "metadata": {},
   "outputs": [],
   "source": [
    "# # One-hot encoding the 'workclass' column creates 9 new columns, one for each category\n",
    "# pd.get_dummies(X['workclass'])\n"
   ]
  },
  {
   "cell_type": "code",
   "execution_count": null,
   "id": "71ca89a1-a0be-43a5-af9a-439d89f0136c",
   "metadata": {},
   "outputs": [],
   "source": [
    "# One-hot encoding the entire dataframe\n",
    "X_dummies = pd.get_dummies(X)\n",
    "print(X_dummies.columns)\n",
    "X_dummies\n"
   ]
  },
  {
   "cell_type": "code",
   "execution_count": null,
   "id": "c4bdd8f0-88a6-4efc-9dbc-2ebe12f3311d",
   "metadata": {},
   "outputs": [],
   "source": [
    "# Converting output labels to 0 and 1\n",
    "y_label = LabelEncoder().fit_transform(df_core['Invasive'])\n",
    "y_label\n"
   ]
  },
  {
   "cell_type": "code",
   "execution_count": null,
   "id": "73925e28-feb9-405b-8f57-c0dce4ecd6f6",
   "metadata": {},
   "outputs": [],
   "source": [
    "X_train, X_test, y_train, y_test = train_test_split(X_dummies, y_label, random_state=99)"
   ]
  },
  {
   "cell_type": "code",
   "execution_count": null,
   "id": "821c8306-882b-4eca-b69e-df5e41c33ac7",
   "metadata": {},
   "outputs": [],
   "source": [
    "# Scaling the X data by using StandardScaler()\n",
    "scaler = StandardScaler().fit(X_train)\n",
    "X_train_scaled = scaler.transform(X_train)\n",
    "X_train_scaled\n"
   ]
  },
  {
   "cell_type": "code",
   "execution_count": null,
   "id": "c60d29b1-84c0-4bc5-95bf-bfea2cad685d",
   "metadata": {},
   "outputs": [],
   "source": [
    "# Alternatively, scaling the data by using MinMaxScaler()\n",
    "scaler = MinMaxScaler().fit(X_train)\n",
    "X_train_scaled = scaler.transform(X_train)\n",
    "X_train_scaled\n"
   ]
  },
  {
   "cell_type": "code",
   "execution_count": null,
   "id": "732b064e-b7f2-4fa8-9df2-c142c641ee74",
   "metadata": {},
   "outputs": [],
   "source": [
    "# Transforming the test dataset based on the fit from the training dataset\n",
    "X_test_scaled = scaler.transform(X_test)\n",
    "X_test_scaled\n"
   ]
  },
  {
   "cell_type": "code",
   "execution_count": null,
   "id": "775b58ba-7f0b-448e-ae85-6f861d781d55",
   "metadata": {},
   "outputs": [],
   "source": []
  },
  {
   "cell_type": "code",
   "execution_count": null,
   "id": "97a7da56-5dc3-4909-8334-43fad57de398",
   "metadata": {},
   "outputs": [],
   "source": []
  },
  {
   "cell_type": "code",
   "execution_count": null,
   "id": "5c547446-6cfa-4ee3-9af8-57925bd6d295",
   "metadata": {},
   "outputs": [],
   "source": []
  },
  {
   "cell_type": "code",
   "execution_count": null,
   "id": "d037d817-e45c-42d1-b68b-f5f40ed1b528",
   "metadata": {},
   "outputs": [],
   "source": []
  },
  {
   "cell_type": "code",
   "execution_count": null,
   "id": "4c11a50f-4d78-4935-8aad-50c19135d8d8",
   "metadata": {},
   "outputs": [],
   "source": []
  },
  {
   "cell_type": "markdown",
   "id": "916c6078-1635-408e-8a19-a15f9ab6f4a1",
   "metadata": {},
   "source": [
    "## DF_NATIVE TARGET COLUMN ISOLATION"
   ]
  },
  {
   "cell_type": "code",
   "execution_count": null,
   "id": "2aa9a9ee-4f22-473d-82bd-37d4ba766a13",
   "metadata": {},
   "outputs": [],
   "source": [
    "df_native = pd.DataFrame(df, columns = ['id', 'Symbol', 'Scientific_Name_x', 'State_Noxious_Status', 'Federal_Noxious_Status','Invasive','Native_Status', 'State_and_Province'])\n",
    "df_native"
   ]
  },
  {
   "cell_type": "code",
   "execution_count": null,
   "id": "6db2388c-ef62-4926-8be1-788377bc839f",
   "metadata": {},
   "outputs": [],
   "source": [
    "df_invasive_features = pd.DataFrame(df, columns = ['id',\n",
    "                                          'Symbol',\n",
    "                                          'Scientific_Name_x',\n",
    "                                          'State_Noxious_Status',\n",
    "                                          'Invasive','Native_Status',\n",
    "                                          'State_and_Province',\n",
    "                                          'Resprout_Ability',\n",
    "                                          'Growth_Habit', \n",
    "                                          'Leaf_Retention',\n",
    "                                          'Lifespan','Moisture_Use',\n",
    "                                          'pH_Minimum',\n",
    "                                          'pH_Maximum',\n",
    "                                          'Planting_Density_per_Acre_Minimum',\n",
    "                                          'Planting_Density_per_Acre_Maximum',\n",
    "                                          'Precipitation_Minimum',\n",
    "                                          'Precipitation_Maximum',\n",
    "                                          'Root_Depth_Minimum_inches',\n",
    "                                          'Salinity_Tolerance','Shade_Tolerance','Category'\n",
    "])\n",
    "df_invasive_features"
   ]
  },
  {
   "cell_type": "code",
   "execution_count": null,
   "id": "a56d7a1e-31cc-44e2-a286-020382d15a9f",
   "metadata": {},
   "outputs": [],
   "source": [
    "df_native\n",
    "# view df[State_and] columns \n",
    "# what type is it?"
   ]
  },
  {
   "cell_type": "code",
   "execution_count": null,
   "id": "1d3de3c0-7d11-4f23-a1e9-9b2bf6eec13f",
   "metadata": {},
   "outputs": [],
   "source": [
    "df_state_prov_list = df_native[\"State_and_Province\"].isnull().sum()\n",
    "df_state_prov_list\n",
    "# no null values"
   ]
  },
  {
   "cell_type": "code",
   "execution_count": null,
   "id": "605ccad7-e899-485b-94dc-fcd32cb9b1d7",
   "metadata": {},
   "outputs": [],
   "source": [
    "df_native.head()"
   ]
  },
  {
   "cell_type": "code",
   "execution_count": null,
   "id": "9b52be77-81e3-4da4-8556-fdd9d48a9bca",
   "metadata": {},
   "outputs": [],
   "source": [
    "df_native['In_NC'] = df_native['State_and_Province'].apply(in_nc)\n",
    "df_native['Native_L48'] = df_native['Native_Status'].apply(in_l48)\n",
    "df_native['Native_NC'] = df_native['Native_Status'].apply(in_nc)"
   ]
  },
  {
   "cell_type": "code",
   "execution_count": null,
   "id": "d75ea66e-fd1f-4ed2-a498-140de4965a5f",
   "metadata": {},
   "outputs": [],
   "source": [
    "df_native.head()"
   ]
  },
  {
   "cell_type": "code",
   "execution_count": null,
   "id": "ec191945-ced5-4acc-9fe8-3b07301c9dbd",
   "metadata": {},
   "outputs": [],
   "source": [
    "print(df_native['In_NC'].value_counts())\n",
    "print(df_native['Native_L48'].value_counts())\n",
    "print(df_native['Native_NC'].value_counts())"
   ]
  },
  {
   "cell_type": "code",
   "execution_count": null,
   "id": "1d8d6b19-e0c7-4ad5-9cba-4b9b9ea0f0eb",
   "metadata": {},
   "outputs": [],
   "source": [
    "df_In_NC = df_native[df_native['In_NC']==True]\n",
    "df_In_NC"
   ]
  },
  {
   "cell_type": "code",
   "execution_count": null,
   "id": "c9eecec8-18e1-4ee9-8fa8-4aa4fc753b7b",
   "metadata": {},
   "outputs": [],
   "source": [
    "df_L48_NC = df_native[df_native['Native_L48']==True]\n",
    "df_L48_NC"
   ]
  },
  {
   "cell_type": "code",
   "execution_count": null,
   "id": "94c6496e-2df7-40e9-9589-0559309353b5",
   "metadata": {},
   "outputs": [],
   "source": [
    "df_Native_NC = df_native[df_native['Native_NC']==True]\n",
    "df_Native_NC"
   ]
  },
  {
   "cell_type": "markdown",
   "id": "8b595c2b-9422-4bd0-9843-64306ce4d077",
   "metadata": {},
   "source": [
    "## SUPERVISED ML WORK BEGINS"
   ]
  },
  {
   "cell_type": "code",
   "execution_count": null,
   "id": "3bb9e7ac-0669-4725-9d2d-ba4a1bcd83b2",
   "metadata": {},
   "outputs": [],
   "source": [
    "from sklearn.model_selection import train_test_split\n",
    "from sklearn.preprocessing import StandardScaler, MinMaxScaler, LabelEncoder\n",
    "from sklearn.ensemble import RandomForestClassifier\n",
    "from sklearn import tree"
   ]
  },
  {
   "cell_type": "code",
   "execution_count": null,
   "id": "8c246362-7a63-4a88-86f4-c06b8044eb3a",
   "metadata": {},
   "outputs": [],
   "source": []
  },
  {
   "cell_type": "code",
   "execution_count": null,
   "id": "98c7746b-bfd8-4e87-abd6-d5434ae504fe",
   "metadata": {},
   "outputs": [],
   "source": []
  },
  {
   "cell_type": "code",
   "execution_count": null,
   "id": "dee0173f-ddb8-46ba-ad5e-2ad8f7cbfb02",
   "metadata": {},
   "outputs": [],
   "source": []
  },
  {
   "cell_type": "code",
   "execution_count": null,
   "id": "d920c41e-cb92-4a2e-b0fc-f8951957890d",
   "metadata": {},
   "outputs": [],
   "source": []
  },
  {
   "cell_type": "code",
   "execution_count": null,
   "id": "0183fe78-846f-4a93-82e6-fc0f3bb55219",
   "metadata": {},
   "outputs": [],
   "source": [
    "# Converting output labels to 0 and 1\n",
    "y_label = LabelEncoder().fit_transform(df['income'])\n",
    "y_label"
   ]
  }
 ],
 "metadata": {
  "kernelspec": {
   "display_name": "Python 3.8.10 64-bit ('pythondata': conda)",
   "language": "python",
   "name": "python3810jvsc74a57bd026e1a0b21b15c6599720c0dcf6980bb4cd2e7bcd1c97af6c7222f42e9b7eda95"
  },
  "language_info": {
   "codemirror_mode": {
    "name": "ipython",
    "version": 3
   },
   "file_extension": ".py",
   "mimetype": "text/x-python",
   "name": "python",
   "nbconvert_exporter": "python",
   "pygments_lexer": "ipython3",
   "version": "3.8.10"
  }
 },
 "nbformat": 4,
 "nbformat_minor": 5
}
